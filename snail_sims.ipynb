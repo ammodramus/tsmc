{
 "cells": [
  {
   "cell_type": "code",
   "execution_count": 1,
   "metadata": {
    "collapsed": true
   },
   "outputs": [],
   "source": [
    "# imports\n",
    "%matplotlib inline\n",
    "import re\n",
    "import matplotlib.pyplot as plt\n",
    "import matplotlib as mpl\n",
    "import numpy as np\n",
    "import pandas as pd\n",
    "import glob"
   ]
  },
  {
   "cell_type": "code",
   "execution_count": 25,
   "metadata": {
    "collapsed": true
   },
   "outputs": [],
   "source": [
    "mu = 1.5e-8  # mutation rate\n",
    "r = 1.0e-8  # recombination rate\n",
    "N = 10000  # diploid population size in the sexual ancestor\n",
    "chromLength = int(1e7)  # 10 Mbp per chromosome\n",
    "numChromosomes = 100  # simulate 100 chromosomes per replicate"
   ]
  },
  {
   "cell_type": "code",
   "execution_count": 26,
   "metadata": {
    "collapsed": true
   },
   "outputs": [],
   "source": [
    "# scaled parameters for entire chromosomes\n",
    "rho = 4*N*r*chromLength\n",
    "theta = 4*N*mu*chromLength"
   ]
  },
  {
   "cell_type": "code",
   "execution_count": 27,
   "metadata": {
    "collapsed": true
   },
   "outputs": [],
   "source": [
    "numReps = 5"
   ]
  },
  {
   "cell_type": "code",
   "execution_count": 28,
   "metadata": {
    "collapsed": true
   },
   "outputs": [],
   "source": [
    "# the different transition times to test\n",
    "asexGens = np.array([2000, 5000, 10000, 20000, 40000])\n",
    "asexGensRescaled = asexGens / (2.0*N)  # rescaled by 2*N"
   ]
  },
  {
   "cell_type": "code",
   "execution_count": 29,
   "metadata": {
    "collapsed": false
   },
   "outputs": [],
   "source": [
    "# generate ms commands (but using scrm instead of ms)\n",
    "# scrm: http://scrm.github.io/ \n",
    "\n",
    "msCmds = open('sim_ms_commands.txt', 'w')\n",
    "for asexGen in asexGensRescaled:\n",
    "    for rep in xrange(1, numReps+1):\n",
    "        filename = \"sim_data_t{}_rho{}_asex{}_rep{}\".format(theta, rho, asexGen, rep)\n",
    "        msCmd = \"scrm 2 {numChroms} -t {theta} -r {rho} {chromLen} | ./add_asex.py - {asexGen} > {filename}\".format(numChroms = numChromosomes,\n",
    "                                                                   theta = theta, rho = rho,\n",
    "                                                                   chromLen = chromLength, asexGen = asexGen,\n",
    "                                                                   filename = filename)\n",
    "        msCmds.write(msCmd+'\\n')\n",
    "# control runs with constant size and no history of asex\n",
    "for rep in xrange(1,numReps+1):\n",
    "    filename = \"sim_data_t{}_rho{}_no_asex_rep{}\".format(theta, rho, rep)\n",
    "    msCmd = \"scrm 2 {numChroms} -t {theta} -r {rho} {chromLen} > {filename}\".format(numChroms = numChromosomes,\n",
    "                                                               theta = theta, rho = rho,\n",
    "                                                               chromLen = chromLength,\n",
    "                                                               filename = filename)\n",
    "    msCmds.write(msCmd+'\\n')\n",
    "msCmds.close()"
   ]
  },
  {
   "cell_type": "markdown",
   "metadata": {},
   "source": [
    "Simulate the data.\n",
    "\n",
    "    cat sim_ms_commands.txt | parallel -n 4\n",
    "    mkdir -p simdata\n",
    "    mv sim_data* simdata/\n",
    "\n",
    "Convert to psmc format.\n",
    "    \n",
    "    for file in simdata/sim_data_*\n",
    "    do\n",
    "        psmcfilename=\"$file.psmc\"\n",
    "        ./ms2psmcfa.py $file > $psmcfilename\n",
    "    done"
   ]
  },
  {
   "cell_type": "code",
   "execution_count": null,
   "metadata": {
    "collapsed": true
   },
   "outputs": [],
   "source": [
    "datadir = \"simdata\""
   ]
  },
  {
   "cell_type": "code",
   "execution_count": 69,
   "metadata": {
    "collapsed": false
   },
   "outputs": [],
   "source": [
    "# make psmc commands\n",
    "\n",
    "initialT = \"0.5\"\n",
    "\n",
    "psmcCmds = open('sim_psmc_commands.txt', 'w')\n",
    "\n",
    "for asexGen in asexGensRescaled:\n",
    "    for rep in xrange(1, numReps+1):\n",
    "        datafilename = \"{}/sim_data_t{}_rho{}_asex{}_rep{}.psmc\".format(datadir, theta, rho, asexGen, rep)\n",
    "        resultsfilename = \"{}/results_data_t{}_rho{}_asex{}_rep{}\".format(datadir, theta, rho, asexGen, rep)\n",
    "        resultsfilenameT = \"{}/results_data_t{}_rho{}_asex{}_rep{}_T\".format(datadir, theta, rho, asexGen, rep)\n",
    "        psmcCmd = \"psmc {} > {}\".format(datafilename, resultsfilename)\n",
    "        psmcCmdT = \"psmc {} -T {} > {}\".format(datafilename, initialT, resultsfilenameT)\n",
    "        psmcCmds.write(psmcCmd+'\\n')\n",
    "        psmcCmds.write(psmcCmdT+'\\n')\n",
    "# control runs with constant size and no history of asex\n",
    "for rep in xrange(1,numReps+1):\n",
    "    datafilename = \"{}/sim_data_t{}_rho{}_no_asex_rep{}.psmc\".format(datadir, theta, rho, asexGen, rep)\n",
    "    resultsfilename = \"{}/results_data_t{}_rho{}_no_asex_rep{}\".format(datadir, theta, rho, asexGen, rep)\n",
    "    resultsfilenameT = \"{}/results_data_t{}_rho{}_no_asex_rep{}_T\".format(datadir, theta, rho, asexGen, rep)\n",
    "    psmcCmd = \"psmc {} > {}\".format(datafilename, resultsfilename)\n",
    "    psmcCmdT = \"psmc {} -T {} > {}\".format(datafilename, initialT, resultsfilenameT)\n",
    "    psmcCmds.write(psmcCmd+'\\n')\n",
    "    psmcCmds.write(psmcCmdT+'\\n')\n",
    "psmcCmds.close()"
   ]
  },
  {
   "cell_type": "code",
   "execution_count": 48,
   "metadata": {
    "collapsed": false
   },
   "outputs": [],
   "source": [
    "# read and return psmc results as dict\n",
    "def read_psmc_results(filename):\n",
    "    results = {}\n",
    "    results['divtime'] = None  # divtime None by default...\n",
    "    fin = open(filename,'r')\n",
    "    for line in fin:\n",
    "        line = line.strip()\n",
    "        if line[:2] == 'TR':\n",
    "            spline = line.split('\\t')\n",
    "            results['theta'] = float(spline[1])\n",
    "            results['rho'] = float(spline[2])\n",
    "            continue\n",
    "        if line[:2] == 'DT':\n",
    "            results['divtime'] = float(line.split('\\t')[1])\n",
    "            continue\n",
    "        if line[:2] == 'RS':\n",
    "            spline = line.split('\\t')\n",
    "            i = int(spline[1])\n",
    "            ti = float(spline[2])\n",
    "            lambdai = float(spline[3])\n",
    "            results['maxi'] = i\n",
    "            results['t{}'.format(i)] = ti\n",
    "            results['lambda{}'.format(i)] = lambdai\n",
    "            continue\n",
    "    return results"
   ]
  },
  {
   "cell_type": "code",
   "execution_count": 82,
   "metadata": {
    "collapsed": false
   },
   "outputs": [],
   "source": [
    "rows = {}\n",
    "for asexGen in asexGensRescaled:\n",
    "    for rep in xrange(1, numReps+1):\n",
    "        index = 'asex{}_rep{}'.format(asexGen, rep)\n",
    "        resultsfilename = \"{}/results_data_t{}_rho{}_asex{}_rep{}\".format(datadir, theta, rho, asexGen, rep)\n",
    "        try:\n",
    "            rows[index] = read_psmc_results(resultsfilename)\n",
    "        except:\n",
    "            pass\n",
    "        index = 'asex{}_rep{}_T'.format(asexGen, rep)\n",
    "        resultsfilename = \"{}/results_data_t{}_rho{}_asex{}_rep{}_T\".format(datadir, theta, rho, asexGen, rep)\n",
    "        try:\n",
    "            rows[index] = read_psmc_results(resultsfilename)\n",
    "        except:\n",
    "            pass\n",
    "for rep in xrange(1, numReps+1):\n",
    "    resultsfilename = \"{}/results_data_t{}_rho{}_no_asex_rep{}\".format(datadir, theta, rho, asexGen, rep)\n",
    "    "
   ]
  },
  {
   "cell_type": "code",
   "execution_count": 83,
   "metadata": {
    "collapsed": false
   },
   "outputs": [],
   "source": [
    "dat = pd.DataFrame.from_dict(rows, orient = 'index')\n",
    "maxi = dat['maxi'].max()\n",
    "newCols = ['theta', 'rho', 'divtime']\n",
    "newCols.extend(['lambda'+str(i) for i in xrange(0,maxi+1)])\n",
    "newCols.extend(['t'+str(i) for i in xrange(0,maxi+1)])\n",
    "newCols.append('maxi')\n",
    "dat = dat[newCols]"
   ]
  },
  {
   "cell_type": "code",
   "execution_count": 84,
   "metadata": {
    "collapsed": false
   },
   "outputs": [],
   "source": [
    "# rescaling the population size\n",
    "\n",
    "binSize = 100  # we binned the bp's by 100 in the input to PSMC\n",
    "\n",
    "dat['lambda0'] = dat['theta'] / (4.0*mu) / binSize\n",
    "\n",
    "for i in xrange(1, maxi+1):\n",
    "    colLam = 'lambda'+str(i)\n",
    "    colT = 't'+str(i)\n",
    "    dat[colLam] = dat['lambda0'] * dat[colLam]\n",
    "    dat[colT] = 2.0*dat['lambda0'] * dat[colT]"
   ]
  },
  {
   "cell_type": "code",
   "execution_count": null,
   "metadata": {
    "collapsed": true
   },
   "outputs": [],
   "source": []
  }
 ],
 "metadata": {
  "kernelspec": {
   "display_name": "Python 2",
   "language": "python",
   "name": "python2"
  },
  "language_info": {
   "codemirror_mode": {
    "name": "ipython",
    "version": 2
   },
   "file_extension": ".py",
   "mimetype": "text/x-python",
   "name": "python",
   "nbconvert_exporter": "python",
   "pygments_lexer": "ipython2",
   "version": "2.7.6"
  }
 },
 "nbformat": 4,
 "nbformat_minor": 0
}
