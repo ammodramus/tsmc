{
 "cells": [
  {
   "cell_type": "code",
   "execution_count": 1,
   "metadata": {
    "collapsed": true
   },
   "outputs": [],
   "source": [
    "# imports\n",
    "%matplotlib inline\n",
    "import re\n",
    "import matplotlib.pyplot as plt\n",
    "import matplotlib as mpl\n",
    "import numpy as np\n",
    "import pandas as pd\n",
    "import glob"
   ]
  },
  {
   "cell_type": "code",
   "execution_count": 34,
   "metadata": {
    "collapsed": true
   },
   "outputs": [],
   "source": [
    "mu = 1.5e-8  # mutation rate\n",
    "r = 1.0e-8  # recombination rate\n",
    "N = 10000  # diploid population size in the sexual ancestor\n",
    "chromLength = int(1e7)  # 10 Mbp per chromosome\n",
    "numChromosomes = 100  # simulate 100 chromosomes per replicate\n",
    "\n",
    "# scaled parameters for entire chromosomes\n",
    "rho = 4*N*r*chromLength\n",
    "theta = 4*N*mu*chromLength\n",
    "\n",
    "numReps = 5\n",
    "\n",
    "# the different transition times to test\n",
    "asexGens = np.array([2000, 5000, 10000, 20000, 40000])\n",
    "asexGensRescaled = asexGens / (2.0*N)  # rescaled by 2*N"
   ]
  },
  {
   "cell_type": "markdown",
   "metadata": {},
   "source": [
    "## initial simulation: constant population size history, diploid asexuals"
   ]
  },
  {
   "cell_type": "code",
   "execution_count": 35,
   "metadata": {
    "collapsed": false
   },
   "outputs": [],
   "source": [
    "# generate ms commands (but using scrm instead of ms)\n",
    "# scrm: http://scrm.github.io/ \n",
    "\n",
    "msCmds = open('sim_ms_commands.txt', 'w')\n",
    "for asexGen in asexGensRescaled:\n",
    "    for rep in xrange(1, numReps+1):\n",
    "        filename = \"sim_data_t{}_rho{}_asex{}_rep{}\".format(theta, rho, asexGen, rep)\n",
    "        msCmd = \"scrm 2 {numChroms} -t {theta} -r {rho} {chromLen} | ./add_asex.py - {asexGen} > {filename}\".format(numChroms = numChromosomes,\n",
    "                                                                   theta = theta, rho = rho,\n",
    "                                                                   chromLen = chromLength, asexGen = asexGen,\n",
    "                                                                   filename = filename)\n",
    "        msCmds.write(msCmd+'\\n')\n",
    "# control runs with constant size and no history of asex\n",
    "for rep in xrange(1,numReps+1):\n",
    "    filename = \"sim_data_t{}_rho{}_no_asex_rep{}\".format(theta, rho, rep)\n",
    "    msCmd = \"scrm 2 {numChroms} -t {theta} -r {rho} {chromLen} > {filename}\".format(numChroms = numChromosomes,\n",
    "                                                               theta = theta, rho = rho,\n",
    "                                                               chromLen = chromLength,\n",
    "                                                               filename = filename)\n",
    "    msCmds.write(msCmd+'\\n')\n",
    "msCmds.close()"
   ]
  },
  {
   "cell_type": "markdown",
   "metadata": {},
   "source": [
    "Simulate the data.\n",
    "\n",
    "    cat sim_ms_commands.txt | parallel -j 4\n",
    "    mkdir -p simdata\n",
    "    mv sim_data* simdata/\n",
    "\n",
    "Convert to psmc format.\n",
    "    \n",
    "    for file in simdata/sim_data_*\n",
    "    do\n",
    "        psmcfilename=\"$file.psmc\"\n",
    "        ./ms2psmcfa.py $file > $psmcfilename\n",
    "    done"
   ]
  },
  {
   "cell_type": "code",
   "execution_count": 36,
   "metadata": {
    "collapsed": true
   },
   "outputs": [],
   "source": [
    "datadir = \"simdata\""
   ]
  },
  {
   "cell_type": "code",
   "execution_count": 37,
   "metadata": {
    "collapsed": false
   },
   "outputs": [],
   "source": [
    "# make psmc commands\n",
    "\n",
    "initialT = \"0.5\"\n",
    "\n",
    "psmcCmds = open('sim_psmc_commands.txt', 'w')\n",
    "\n",
    "for asexGen in asexGensRescaled:\n",
    "    for rep in xrange(1, numReps+1):\n",
    "        datafilename = \"{}/sim_data_t{}_rho{}_asex{}_rep{}.psmc\".format(datadir, theta, rho, asexGen, rep)\n",
    "        resultsfilename = \"{}/results_data_t{}_rho{}_asex{}_rep{}\".format(datadir, theta, rho, asexGen, rep)\n",
    "        resultsfilenameT = \"{}/results_data_t{}_rho{}_asex{}_rep{}_T\".format(datadir, theta, rho, asexGen, rep)\n",
    "        psmcCmd = \"psmc {} > {}\".format(datafilename, resultsfilename)\n",
    "        psmcCmdT = \"psmc {} -T {} > {}\".format(datafilename, initialT, resultsfilenameT)\n",
    "        psmcCmds.write(psmcCmd+'\\n')\n",
    "        psmcCmds.write(psmcCmdT+'\\n')\n",
    "# control runs with constant size and no history of asex\n",
    "psmcCmds = open('sim_psmc_commands_complete.txt', 'w')\n",
    "for rep in xrange(1,numReps+1):\n",
    "    datafilename = \"{}/sim_data_t{}_rho{}_no_asex_rep{}.psmc\".format(datadir, theta, rho, rep)\n",
    "    resultsfilename = \"{}/results_data_t{}_rho{}_no_asex_rep{}\".format(datadir, theta, rho, rep)\n",
    "    resultsfilenameT = \"{}/results_data_t{}_rho{}_no_asex_rep{}_T\".format(datadir, theta, rho, rep)\n",
    "    psmcCmd = \"psmc {} > {}\".format(datafilename, resultsfilename)\n",
    "    psmcCmdT = \"psmc {} -T {} > {}\".format(datafilename, initialT, resultsfilenameT)\n",
    "    psmcCmds.write(psmcCmd+'\\n')\n",
    "    psmcCmds.write(psmcCmdT+'\\n')\n",
    "psmcCmds.close()"
   ]
  },
  {
   "cell_type": "code",
   "execution_count": 38,
   "metadata": {
    "collapsed": false
   },
   "outputs": [],
   "source": [
    "# read and return psmc results as dict\n",
    "\n",
    "def read_psmc_results(filename):\n",
    "    results = {}\n",
    "    results['divtime'] = None  # divtime None by default...\n",
    "    fin = open(filename,'r')\n",
    "    for line in fin:\n",
    "        line = line.strip()\n",
    "        if line[:2] == 'TR':\n",
    "            spline = line.split('\\t')\n",
    "            results['theta'] = float(spline[1])\n",
    "            results['rho'] = float(spline[2])\n",
    "            continue\n",
    "        if line[:2] == 'DT':\n",
    "            results['divtime'] = float(line.split('\\t')[1])\n",
    "            continue\n",
    "        if line[:2] == 'RS':\n",
    "            spline = line.split('\\t')\n",
    "            i = int(spline[1])\n",
    "            ti = float(spline[2])\n",
    "            lambdai = float(spline[3])\n",
    "            results['maxi'] = i\n",
    "            results['t{}'.format(i)] = ti\n",
    "            results['lambda{}'.format(i)] = lambdai\n",
    "            continue\n",
    "    return results"
   ]
  },
  {
   "cell_type": "code",
   "execution_count": 39,
   "metadata": {
    "collapsed": false
   },
   "outputs": [],
   "source": [
    "# get psmc data\n",
    "\n",
    "rows = {}\n",
    "for asexGen, asexGenUnscaled in zip(asexGensRescaled, asexGens):\n",
    "    for rep in xrange(1, numReps+1):\n",
    "        index = 'asex{}_rep{}'.format(asexGen, rep)\n",
    "        resultsfilename = \"{}/results_data_t{}_rho{}_asex{}_rep{}\".format(datadir, theta, rho, asexGen, rep)\n",
    "        try:\n",
    "            results = read_psmc_results(resultsfilename)\n",
    "            results['asex'] = asexGenUnscaled\n",
    "            results['rep'] = rep\n",
    "            rows[index] = results\n",
    "        except:\n",
    "            pass\n",
    "        index = 'asex{}_rep{}_T'.format(asexGen, rep)\n",
    "        resultsfilename = \"{}/results_data_t{}_rho{}_asex{}_rep{}_T\".format(datadir, theta, rho, asexGen, rep)\n",
    "        try:\n",
    "            results = read_psmc_results(resultsfilename)\n",
    "            results['asex'] = asexGenUnscaled\n",
    "            results['rep'] = rep\n",
    "            rows[index] = results \n",
    "        except:\n",
    "            pass\n",
    "        \n",
    "for rep in xrange(1, numReps+1):\n",
    "    index = 'noasex_rep{}'.format(rep)\n",
    "    resultsfilename = \"{}/results_data_t{}_rho{}_no_asex_rep{}\".format(datadir, theta, rho, rep)\n",
    "    try:\n",
    "        results = read_psmc_results(resultsfilename)\n",
    "        results['asex'] = None\n",
    "        results['rep'] = rep\n",
    "        rows[index] = results\n",
    "    except:\n",
    "        pass"
   ]
  },
  {
   "cell_type": "code",
   "execution_count": 40,
   "metadata": {
    "collapsed": false
   },
   "outputs": [],
   "source": [
    "# make a dataframe for psmc data\n",
    "\n",
    "dat = pd.DataFrame.from_dict(rows, orient = 'index')\n",
    "maxi = int(dat['maxi'].max())\n",
    "newCols = ['asex', 'rep', 'theta', 'rho', 'divtime']\n",
    "newCols.extend(['lambda'+str(i) for i in xrange(0,maxi+1)])\n",
    "newCols.extend(['t'+str(i) for i in xrange(0,maxi+1)])\n",
    "newCols.append('maxi')\n",
    "dat = dat[newCols]"
   ]
  },
  {
   "cell_type": "code",
   "execution_count": 41,
   "metadata": {
    "collapsed": false
   },
   "outputs": [],
   "source": [
    "# rescaling the population sizes and times\n",
    "\n",
    "binSize = 100  # we binned the bp's by 100 in the input to PSMC\n",
    "\n",
    "dat['lambda0'] = dat['theta'] / (4.0*mu) / binSize\n",
    "\n",
    "dat['divtime'] = 2.0*dat['lambda0'] * dat['divtime']\n",
    "\n",
    "for i in xrange(1, maxi+1):\n",
    "    colLam = 'lambda'+str(i)\n",
    "    colT = 't'+str(i)\n",
    "    dat[colLam] = dat['lambda0'] * dat[colLam]\n",
    "    dat[colT] = 2.0*dat['lambda0'] * dat[colT]"
   ]
  },
  {
   "cell_type": "code",
   "execution_count": 42,
   "metadata": {
    "collapsed": false
   },
   "outputs": [],
   "source": [
    "# function to plot psmc data\n",
    "\n",
    "def plot_psmc(axis, ts, lambdas, divtime = None, maxt = None, **plotkwargs):\n",
    "    newTs = np.repeat(np.array(ts), 2)[1:]\n",
    "    newLambdas = np.repeat(np.array(lambdas), 2)[:-1]\n",
    "    if divtime is None:\n",
    "        axis.plot(newTs, np.log10(newLambdas), '-', **plotkwargs)\n",
    "    else:\n",
    "        baseline, = axis.plot(newTs+divtime, np.log10(newLambdas), '-', **plotkwargs)\n",
    "        if 'color' not in plotkwargs:\n",
    "            axis.axvline(x = divtime, color = baseline.get_color(), **plotkwargs)\n",
    "        else:\n",
    "            axis.axvline(x = divtime, **plotkwargs)\n",
    "    if maxt is not None:\n",
    "        axis.set_xlim((0, maxt))\n",
    "    return"
   ]
  },
  {
   "cell_type": "code",
   "execution_count": 43,
   "metadata": {
    "collapsed": false
   },
   "outputs": [
    {
     "data": {
      "image/png": "[encoded data removed]",
      "text/plain": [
       "<matplotlib.figure.Figure at 0x7f2b8cb47250>"
      ]
     },
     "metadata": {},
     "output_type": "display_data"
    }
   ],
   "source": [
    "# plot the psmc data\n",
    "\n",
    "fig, axes = plt.subplots(nrows=2,ncols=len(asexGens), figsize = (26,10))\n",
    "for colIdx, asexGen in enumerate(asexGens):\n",
    "    # first row: no T\n",
    "    datp = dat.loc[(dat['asex'] == asexGen) & (np.isnan(dat['divtime'])),:]\n",
    "    axis = axes[0, colIdx]\n",
    "    for rowIdx in xrange(datp.shape[0]):\n",
    "        maxi = int(datp.ix[rowIdx,'maxi'])\n",
    "        ts = datp.ix[rowIdx,'t0':('t{}'.format(maxi))]\n",
    "        lambdas = datp.ix[rowIdx, 'lambda0':('lambda{}'.format(maxi))]\n",
    "        divtime = datp.ix[rowIdx, 'divtime']\n",
    "        if np.isnan(divtime):\n",
    "            divtime = None\n",
    "        plot_psmc(axis, ts, lambdas, divtime, maxt = 70000)\n",
    "        axis.axvline(asexGen, color = 'gray', lw = 5, ls = 'dashed')\n",
    "        axis.axhline(np.log10(N), color = 'gray', lw = 3, ls = 'dashed')\n",
    "        axis.set_title('asex transition @ {} generations, no T'.format(asexGen))\n",
    "        axis.set_xlabel('generations ago')\n",
    "        axis.set_ylabel('log10(N)')\n",
    "    # second row: T\n",
    "    datp = dat.loc[(dat['asex'] == asexGen) & (~np.isnan(dat['divtime'])),:]\n",
    "    axis = axes[1, colIdx]\n",
    "    for rowIdx in xrange(datp.shape[0]):\n",
    "        maxi = int(datp.ix[rowIdx,'maxi'])\n",
    "        ts = datp.ix[rowIdx,'t0':('t{}'.format(maxi))]\n",
    "        lambdas = datp.ix[rowIdx, 'lambda0':('lambda{}'.format(maxi))]\n",
    "        divtime = datp.ix[rowIdx, 'divtime']\n",
    "        if np.isnan(divtime):\n",
    "            divtime = None\n",
    "        plot_psmc(axis, ts, lambdas, divtime, maxt = 70000)\n",
    "        # add true divergence time\n",
    "        axis.axvline(asexGen, color = 'gray', lw = 3, ls = 'dashed')\n",
    "        axis.axhline(np.log10(N), color = 'gray', lw = 3, ls = 'dashed')\n",
    "        axis.set_title('asex transition @ {} generations, with T'.format(asexGen))\n",
    "        axis.set_xlabel('generations ago')\n",
    "        axis.set_ylabel('log10(N)')\n",
    "        "
   ]
  },
  {
   "cell_type": "markdown",
   "metadata": {},
   "source": [
    "**Figure caption:** Inferred sex-to-asex transition times using the diploid PSMC with simulated diploid asexual genome data. In each panel, there are five lines, one line for each of five replicate datasets. The true population size is shown as a horizontal dashed gray line. The true time of the transition from sexual to asexual reproduction is shown as a vertical dashed gray line. The top row shows the results leaving out the `-T` parameter; the period of asexual reproduction is inferred as a period of increased population size. The lower row shows the effect of enabling the `-T` parameter in PSMC. This parameter is an aborted attempt to model the divergence between two populations; it doesn't work for that scenario, but it is perfect for this particular scenario. In the lower row, the inferred sex-to-asex transition time is shown with the colored solid vertical lines."
   ]
  },
  {
   "cell_type": "markdown",
   "metadata": {},
   "source": [
    "It seems like the -T parameter accurately estimates the time since the sex to asex transition time, at least when there is no history of population size changes. The transition is also visible in population size trajectory without the -T option specified (top row), but it is harder to read from the trajectory of N. The estimate of the transition time seems to be somewhat underestimated, with an upwards bias of N directly following the transition. This may be the effect of using SMC math where the SMC' is really needed.\n",
    "\n",
    "Next: do diploid simulations with recent population growth, see whether PSMC can disentangle these two effects. One reason to be optimistic: In the top row above, the inferred increase in population size in the recent past is several orders of magnitude, which will probably not be the case in nature."
   ]
  },
  {
   "cell_type": "markdown",
   "metadata": {},
   "source": [
    "## including historical changes in population size"
   ]
  },
  {
   "cell_type": "markdown",
   "metadata": {},
   "source": [
    "First going to use \"PSMC standard simulation\" from their paper, see true population size history in Fig. 2 of Li and Durbin (2011)."
   ]
  },
  {
   "cell_type": "markdown",
   "metadata": {},
   "source": [
    "The ms command to generate their \"standard simulation,\" from the paper:\n",
    "\n",
    "    ms 2 100 -t 81960 -r 13560 30000000 -eN 0.01 0.05 -eN 0.0375 0.5 -eN 1.25 1\n",
    "\n",
    "This sets $N_0 = 28000$, $\\theta = 4N_0\\mu = 81960$,\n",
    "thus $\\mu = 2.44 \\times 10^{-8}$, $\\rho = 4N_0r = 13560$, thus\n",
    "$r = 4.04 \\times 10^{-9}$.\n",
    "\n",
    "Changes in population size:\n",
    "\n",
    " - at 1120 generations, $N_0 \\to N_1 = 1400$\n",
    " - at 4200 generations, $N_1 \\to N_2 = 14000$\n",
    " - at 140000 generations, $N_2 \\to N_3 = 28000$\n",
    "\n",
    "Again, we will add $\\{2000, 5000, 10000, 20000, 40000\\}$ generations of asexual reproduction and see how PSMC determines these transition times from the genome-wide signal of the Meselson effect."
   ]
  },
  {
   "cell_type": "code",
   "execution_count": 12,
   "metadata": {
    "collapsed": false
   },
   "outputs": [],
   "source": [
    "# generate new ms (scrm) commands\n",
    "\n",
    "stdMsCmd = \"scrm 2 100 -t 81960 -r 13560 30000000 -eN 0.01 0.05 -eN 0.0375 0.5 -eN 1.25 1\"\n",
    "\n",
    "datadir = \"stdsimdata\"\n",
    "\n",
    "stdN0 = 28000\n",
    "\n",
    "stdAsexGensRescaled = asexGens/(2.0*stdN0)\n",
    "\n",
    "stdMsCmds = open('sim_ms_commands_standard.txt', 'w')\n",
    "for asexGen in stdAsexGensRescaled:\n",
    "    for rep in xrange(1, numReps+1):\n",
    "        filename = \"{}/standard_sim_data_t{}_rho{}_asex{}_rep{}\".format(datadir, theta, rho, asexGen, rep)\n",
    "        msCmd = stdMsCmd + ' | ./add_asex.py - {asexGen} > {filename} && ./ms2psmcfa.py {filename} > {filename}.psmc'.format(asexGen=asexGen, filename=filename)\n",
    "        stdMsCmds.write(msCmd+'\\n')\n",
    "\n",
    "# control runs with constant size and no history of asex\n",
    "for rep in xrange(1,numReps+1):\n",
    "    filename = \"{}/standard_sim_data_t{}_rho{}_no_asex_rep{}\".format(datadir, theta, rho, rep)\n",
    "    msCmd = stdMsCmd + ' > {filename} && ./ms2psmcfa.py {filename} > {filename}.psmc'.format(filename=filename)\n",
    "    stdMsCmds.write(msCmd+'\\n')\n",
    "stdMsCmds.close()"
   ]
  },
  {
   "cell_type": "code",
   "execution_count": 13,
   "metadata": {
    "collapsed": false
   },
   "outputs": [
    {
     "name": "stdout",
     "output_type": "stream",
     "text": [
      "scrm 2 100 -t 81960 -r 13560 30000000 -eN 0.01 0.05 -eN 0.0375 0.5 -eN 1.25 1 | ./add_asex.py - 0.0357142857143 > stdsimdata/standard_sim_data_t6000.0_rho4000.0_asex0.0357142857143_rep1 && ./ms2psmcfa.py stdsimdata/standard_sim_data_t6000.0_rho4000.0_asex0.0357142857143_rep1 > stdsimdata/standard_sim_data_t6000.0_rho4000.0_asex0.0357142857143_rep1.psmc\n",
      "scrm 2 100 -t 81960 -r 13560 30000000 -eN 0.01 0.05 -eN 0.0375 0.5 -eN 1.25 1 | ./add_asex.py - 0.0357142857143 > stdsimdata/standard_sim_data_t6000.0_rho4000.0_asex0.0357142857143_rep2 && ./ms2psmcfa.py stdsimdata/standard_sim_data_t6000.0_rho4000.0_asex0.0357142857143_rep2 > stdsimdata/standard_sim_data_t6000.0_rho4000.0_asex0.0357142857143_rep2.psmc\n"
     ]
    }
   ],
   "source": [
    "%%bash\n",
    "\n",
    "head -n 2 sim_ms_commands_standard.txt"
   ]
  },
  {
   "cell_type": "code",
   "execution_count": 14,
   "metadata": {
    "collapsed": false
   },
   "outputs": [],
   "source": [
    "%%bash\n",
    "\n",
    "#ssh peter@ammodramus \"mkdir -p /tmp/stdsimdata/\"\n",
    "#scp sim_ms_commands_standard.txt peter@ammodramus:/tmp/"
   ]
  },
  {
   "cell_type": "markdown",
   "metadata": {},
   "source": [
    "On `ammodramus`:\n",
    "\n",
    "    cd /tmp/\n",
    "    cat sim_ms_commands_standard.txt | parallel -j 7"
   ]
  },
  {
   "cell_type": "code",
   "execution_count": 15,
   "metadata": {
    "collapsed": true
   },
   "outputs": [],
   "source": [
    "# make the psmc commands too\n",
    "\n",
    "initialT = \"0.5\"\n",
    "\n",
    "psmcCmds = open('sim_psmc_commands_standard.txt', 'w')\n",
    "\n",
    "datadir = 'stdsimdata'\n",
    "\n",
    "for asexGen in stdAsexGensRescaled:\n",
    "    for rep in xrange(1, numReps+1):\n",
    "        datafilename = \"{}/standard_sim_data_t{}_rho{}_asex{}_rep{}.psmc\".format(datadir, theta, rho, asexGen, rep)\n",
    "        resultsfilename = \"{}/standard_results_data_t{}_rho{}_asex{}_rep{}\".format(datadir, theta, rho, asexGen, rep)\n",
    "        resultsfilenameT = \"{}/standard_results_data_t{}_rho{}_asex{}_rep{}_T\".format(datadir, theta, rho, asexGen, rep)\n",
    "        psmcCmd = \"psmc {} > {}\".format(datafilename, resultsfilename)\n",
    "        psmcCmdT = \"psmc {} -T {} > {}\".format(datafilename, initialT, resultsfilenameT)\n",
    "        psmcCmds.write(psmcCmd+'\\n')\n",
    "        psmcCmds.write(psmcCmdT+'\\n')\n",
    "# control runs with constant size and no history of asex\n",
    "psmcCmds = open('sim_psmc_commands_complete.txt', 'w')\n",
    "for rep in xrange(1,numReps+1):\n",
    "    datafilename = \"{}/standard_sim_data_t{}_rho{}_no_asex_rep{}.psmc\".format(datadir, theta, rho, rep)\n",
    "    resultsfilename = \"{}/standard_results_data_t{}_rho{}_no_asex_rep{}\".format(datadir, theta, rho, rep)\n",
    "    resultsfilenameT = \"{}/standard_results_data_t{}_rho{}_no_asex_rep{}_T\".format(datadir, theta, rho, rep)\n",
    "    psmcCmd = \"psmc {} > {}\".format(datafilename, resultsfilename)\n",
    "    psmcCmdT = \"psmc {} -T {} > {}\".format(datafilename, initialT, resultsfilenameT)\n",
    "    psmcCmds.write(psmcCmd+'\\n')\n",
    "    psmcCmds.write(psmcCmdT+'\\n')\n",
    "psmcCmds.close()"
   ]
  },
  {
   "cell_type": "code",
   "execution_count": 16,
   "metadata": {
    "collapsed": false
   },
   "outputs": [
    {
     "name": "stdout",
     "output_type": "stream",
     "text": [
      "psmc stdsimdata/standard_sim_data_t6000.0_rho4000.0_asex0.0357142857143_rep1.psmc > stdsimdata/standard_results_data_t6000.0_rho4000.0_asex0.0357142857143_rep1\n",
      "psmc stdsimdata/standard_sim_data_t6000.0_rho4000.0_asex0.0357142857143_rep1.psmc -T 0.5 > stdsimdata/standard_results_data_t6000.0_rho4000.0_asex0.0357142857143_rep1_T\n"
     ]
    }
   ],
   "source": [
    "%%bash\n",
    "\n",
    "head -n 2 sim_psmc_commands_standard.txt"
   ]
  },
  {
   "cell_type": "code",
   "execution_count": 17,
   "metadata": {
    "collapsed": true
   },
   "outputs": [],
   "source": [
    "%%bash\n",
    "\n",
    "#scp sim_psmc_commands_standard.txt peter@ammodramus:/tmp/"
   ]
  },
  {
   "cell_type": "markdown",
   "metadata": {},
   "source": [
    "Combined ms and psmc commands into one big file, sent off with `cat | parallel`"
   ]
  },
  {
   "cell_type": "code",
   "execution_count": 18,
   "metadata": {
    "collapsed": false
   },
   "outputs": [],
   "source": [
    "# get psmc data for standard simulations\n",
    "\n",
    "datadir = 'stdsimdata'\n",
    "\n",
    "stdrows = {}\n",
    "for asexGen, stdAsexGenUnscaled in zip(stdAsexGensRescaled, asexGens):\n",
    "    for rep in xrange(1, numReps+1):\n",
    "        index = 'std_asex{}_rep{}'.format(asexGen, rep)\n",
    "        resultsfilename = \"{}/standard_results_data_t{}_rho{}_asex{}_rep{}\".format(datadir, theta, rho, asexGen, rep)\n",
    "        try:\n",
    "            results = read_psmc_results(resultsfilename)\n",
    "            results['asex'] = stdAsexGenUnscaled\n",
    "            results['rep'] = rep\n",
    "            stdrows[index] = results\n",
    "        except:\n",
    "            pass\n",
    "        index = 'std_asex{}_rep{}_T'.format(asexGen, rep)\n",
    "        resultsfilename = \"{}/standard_results_data_t{}_rho{}_asex{}_rep{}_T\".format(datadir, theta, rho, asexGen, rep)\n",
    "        try:\n",
    "            results = read_psmc_results(resultsfilename)\n",
    "            results['asex'] = stdAsexGenUnscaled\n",
    "            results['rep'] = rep\n",
    "            stdrows[index] = results \n",
    "        except:\n",
    "            pass\n",
    "        \n",
    "_ = '''\n",
    "for rep in xrange(1, numReps+1):\n",
    "    index = 'noasex_rep{}'.format(rep)\n",
    "    resultsfilename = \"{}/results_data_t{}_rho{}_no_asex_rep{}\".format(datadir, theta, rho, rep)\n",
    "    try:\n",
    "        results = read_psmc_results(resultsfilename)\n",
    "        results['asex'] = None\n",
    "        results['rep'] = rep\n",
    "        rows[index] = results\n",
    "    except:\n",
    "        pass\n",
    "'''"
   ]
  },
  {
   "cell_type": "code",
   "execution_count": 19,
   "metadata": {
    "collapsed": false
   },
   "outputs": [],
   "source": [
    "# make a dataframe for standard (var-N) psmc data\n",
    "\n",
    "stddat = pd.DataFrame.from_dict(stdrows, orient = 'index')\n",
    "maxi = int(dat['maxi'].max())\n",
    "newCols = ['asex', 'rep', 'theta', 'rho', 'divtime']\n",
    "newCols.extend(['lambda'+str(i) for i in xrange(0,maxi+1)])\n",
    "newCols.extend(['t'+str(i) for i in xrange(0,maxi+1)])\n",
    "newCols.append('maxi')\n",
    "stddat = stddat[newCols]"
   ]
  },
  {
   "cell_type": "markdown",
   "metadata": {},
   "source": [
    "The ms command to generate their \"standard simulation,\" from the paper:\n",
    "\n",
    "    ms 2 100 -t 81960 -r 13560 30000000 -eN 0.01 0.05 -eN 0.0375 0.5 -eN 1.25 1\n",
    "\n",
    "This sets $N_0 = 28000$, $\\theta = 4N_0\\mu = 81960$,\n",
    "thus $\\mu = 2.44 \\times 10^{-8}$, $\\rho = 4N_0r = 13560$, thus\n",
    "$r = 4.04 \\times 10^{-9}$.\n",
    "\n",
    "Changes in population size:\n",
    "\n",
    " - at 1120 generations, $N_0 \\to N_1 = 1400$\n",
    " - at 4200 generations, $N_1 \\to N_2 = 14000$\n",
    " - at 140000 generations, $N_2 \\to N_3 = 28000$\n",
    "\n",
    "Again, we will add $\\{2000, 5000, 10000, 20000, 40000\\}$ generations of asexual reproduction and see how PSMC determines these transition times from the genome-wide signal of the Meselson effect."
   ]
  },
  {
   "cell_type": "code",
   "execution_count": 20,
   "metadata": {
    "collapsed": true
   },
   "outputs": [],
   "source": [
    "trueTs = np.array([0,1120,4200,140000])\n",
    "trueNs = np.array([28000,1400,14000,28000])"
   ]
  },
  {
   "cell_type": "code",
   "execution_count": 21,
   "metadata": {
    "collapsed": false
   },
   "outputs": [],
   "source": [
    "# rescaling the population sizes and times in the standard (var-N) simulations\n",
    "\n",
    "binSize = 100  # we binned the bp's by 100 in the input to PSMC\n",
    "\n",
    "mustd = 2.44e-8\n",
    "\n",
    "stddat['lambda0'] = stddat['theta'] / (4.0*mustd) / binSize\n",
    "\n",
    "stddat['divtime'] = 2.0*stddat['lambda0'] * stddat['divtime']\n",
    "\n",
    "for i in xrange(1, maxi+1):\n",
    "    colLam = 'lambda'+str(i)\n",
    "    colT = 't'+str(i)\n",
    "    stddat[colLam] = stddat['lambda0'] * stddat[colLam]\n",
    "    stddat[colT] = 2.0*stddat['lambda0'] * stddat[colT]"
   ]
  },
  {
   "cell_type": "code",
   "execution_count": 22,
   "metadata": {
    "collapsed": false
   },
   "outputs": [
    {
     "data": {
      "image/png": "[encoded data removed]",
      "text/plain": [
       "<matplotlib.figure.Figure at 0x7f6e3d748c50>"
      ]
     },
     "metadata": {},
     "output_type": "display_data"
    }
   ],
   "source": [
    "###### plot the std psmc data\n",
    "\n",
    "fig, axes = plt.subplots(nrows=2,ncols=len(asexGens), figsize = (26,10))\n",
    "for colIdx, asexGen in enumerate(asexGens):\n",
    "    # first row: no T\n",
    "    datp = stddat.loc[(stddat['asex'] == asexGen) & (np.isnan(stddat['divtime'])),:]\n",
    "    axis = axes[0, colIdx]\n",
    "    plot_psmc(axis, trueTs, trueNs, asexGen, color='gray', lw=5, ls='dashed')\n",
    "    for rowIdx in xrange(datp.shape[0]):\n",
    "        maxi = int(datp.ix[rowIdx,'maxi'])\n",
    "        ts = datp.ix[rowIdx,'t0':('t{}'.format(maxi))]\n",
    "        lambdas = datp.ix[rowIdx, 'lambda0':('lambda{}'.format(maxi))]\n",
    "        divtime = datp.ix[rowIdx, 'divtime']\n",
    "        if np.isnan(divtime):\n",
    "            divtime = None\n",
    "        plot_psmc(axis, ts, lambdas, divtime, maxt = 60000)\n",
    "        axis.set_title('asex transition @ {} generations, no T'.format(asexGen))\n",
    "        axis.set_xlabel('generations ago')\n",
    "        axis.set_ylabel('log10(N)')\n",
    "    # second row: T\n",
    "    datp = stddat.loc[(stddat['asex'] == asexGen) & (~np.isnan(stddat['divtime'])),:]\n",
    "    axis = axes[1, colIdx]\n",
    "    plot_psmc(axis, trueTs, trueNs, asexGen, color='gray', lw=5, ls='dashed')\n",
    "    for rowIdx in xrange(datp.shape[0]):\n",
    "        maxi = int(datp.ix[rowIdx,'maxi'])\n",
    "        ts = datp.ix[rowIdx,'t0':('t{}'.format(maxi))]\n",
    "        lambdas = datp.ix[rowIdx, 'lambda0':('lambda{}'.format(maxi))]\n",
    "        divtime = datp.ix[rowIdx, 'divtime']\n",
    "        if np.isnan(divtime):\n",
    "            divtime = None\n",
    "        plot_psmc(axis, ts, lambdas, divtime, maxt = 60000)\n",
    "        # add true divergence time\n",
    "        #axis.axvline(asexGen, color = 'gray', lw = 3, ls = 'dashed')\n",
    "        axis.set_title('asex transition @ {} generations, with T'.format(asexGen))\n",
    "        axis.set_xlabel('generations ago')\n",
    "        axis.set_ylabel('log10(N)')"
   ]
  },
  {
   "cell_type": "markdown",
   "metadata": {},
   "source": [
    "**Figure description:** Divergence time and demographic inference from simulated diploid asexual genome data. The demographic history (i.e., historical population size trajectory) of the sexual ancestor is the \"standard\" PSMC simulation described above, shown with the dashed gray line. Each column shows results of a diploid asexual lineage that transitioned from a diploid sexual ancestor at some point in the past, which increases moving from the first to last column. This transition time is marked with a vertical dashed gray line.\n",
    "\n",
    "In each panel, the replicate simulations are different colored lines. The top row shows the past that is inferred when the `-T` parameter is disabled, the default behavior. In this case PSMC infers an astronomically large population size during the period of asexual reproduction. The bottom row shows the same simulations analyzed with the asexual divergence `-T` parameter enabled. In these figures, the inferred divergence times are the colored vertical lines.\n",
    "\n",
    "It is very encouraging to see that (this particular) variable-population-size history does not affect the inference of the sex-to-asex transition time and that the population size history is still recoverable.\n"
   ]
  },
  {
   "cell_type": "markdown",
   "metadata": {},
   "source": [
    "Next: simulate triploid data, with and without variable population size history, \"diploidize\" the genotypes, and run PSMC."
   ]
  },
  {
   "cell_type": "markdown",
   "metadata": {},
   "source": [
    "### A note: information in polymorphism density vs genotype / SFS\n",
    "\n",
    "The diploid PSMC takes into account only the positions of the polymorphic positions; it ignores the particular genotypes. It is encouraging that the diploid PSMC model seems to accurately infer the sex-to-asex transition time. For a hypothetical *diploid* asexual species, the only information about the Meselson effect contained in a single genome is in the spacing of polymorphisms.\n",
    "\n",
    "For a triploid asexual species, there is also a huge amount of information in genotypes, which is the (unfolded) site-frequency spectrum of the polymorphisms. (By genotype, I mean the count of 1 or 2 derived allele copies at a polymorphic site. They would be established by polarizing against the *P. estuarinas* outgroup.) Consider the following: in a sexual panmictic population with constant population size $N$, the expected number of singletons in a sample of size $n=3$ is $\\theta$, and the expected number of doubletons is $\\theta/2$, where $\\theta = 4N\\mu$.\n",
    "\n",
    "If a triploid asexual lineage was derived from three sexual haplotypes at time $T$ in the past (measured in units of $2N$ generations), then (due to the Meselson effect), any mutations that occurred during that interval $[0,T)$ of asexual reproduction will be present in only one copy in the lineage's genome. Thus apomictic asexual reproduction increases the expected number of singletons but not the number of doubletons.\n",
    "\n",
    "It's straightforward to work out an estimator for this time $T$ based on the ratio of singleton vs. doubleton genotypes in the genome. The additional number of singletons expected due to the Meselson effect is $3\\theta T/2$, so the total number of singletons expected is $\\theta + 3\\theta T/2 = \\frac{2\\theta + 3\\theta T}{2}.$ The expected number of doubletons is still $\\theta/2$, so the expected total number polymorphisms is\n",
    "$\\frac{3\\theta+3\\theta T}{2}$. The expected fraction of singleton genotypes is thus\n",
    "\n",
    "$$\n",
    "R = \\frac{2+3T}{3+3T},\n",
    "$$\n",
    "which gives the estimator\n",
    "\n",
    "$$\n",
    "\\hat{T} = \\frac{3\\hat{R}-2}{3(1-\\hat{R})},\n",
    "$$\n",
    "where $\\hat{R}$ is the observed fraction of polymorphic sites that are singleton genotypes. This estimator works well for simulated data but relies heavily on the assumption that the sexual ancestral population had a constant size. This estimator could be extended to any demographic history of the sexual ancestor, so long as it is possible to calculate the site-frequency spectrum for that demographic history. (There are methods of doing this.)\n",
    "\n",
    "But generally speaking, it will be impossible to disentangle changes in the sexual ancestor's population size from the timing of the sex-to-asex transition time using only the genome-wide SFS (i.e., using this estimator). However, it may be possible to practically rule out demographic history as a plausible explanation if the observed value of $\\hat{R}$ is extreme enough.\n",
    "\n",
    "A fully-specified triploid PSMC-style model with a $T$ parameter built into the model would take full advantage of the information contained in both the spacing of polymorphic sites and the genotype frequency spectrum. I am confident that this model would have excellent power to determine the sex-to-asex transition time."
   ]
  },
  {
   "cell_type": "markdown",
   "metadata": {},
   "source": [
    "# triploid data with constant N"
   ]
  },
  {
   "cell_type": "code",
   "execution_count": 23,
   "metadata": {
    "collapsed": true
   },
   "outputs": [],
   "source": [
    "# simulate triploid data\n",
    "\n",
    "# these are the same parameters as the constant-N simulations before,\n",
    "# but now simulating triploid data with ms\n",
    "\n",
    "mu = 1.5e-8  # mutation rate\n",
    "# simulate triploid data\n",
    "r = 1.0e-8  # recombination rate\n",
    "N = 10000  # diploid population size in the sexual ancestor\n",
    "chromLength = int(1e7)  # 10 Mbp per chromosome\n",
    "numChromosomes = 100  # simulate 100 chromosomes per replicate"
   ]
  },
  {
   "cell_type": "code",
   "execution_count": 24,
   "metadata": {
    "collapsed": true
   },
   "outputs": [],
   "source": [
    "# scaled parameters for entire chromosomes\n",
    "rho = 4*N*r*chromLength\n",
    "theta = 4*N*mu*chromLength"
   ]
  },
  {
   "cell_type": "code",
   "execution_count": 25,
   "metadata": {
    "collapsed": true
   },
   "outputs": [],
   "source": [
    "# the different transition times to test\n",
    "asexGens = np.array([2000, 5000, 10000, 20000, 40000])\n",
    "asexGensRescaled = asexGens / (2.0*N)  # rescaled by 2*N"
   ]
  },
  {
   "cell_type": "code",
   "execution_count": 26,
   "metadata": {
    "collapsed": false
   },
   "outputs": [],
   "source": [
    "# generate ms commands (but using scrm instead of ms)\n",
    "# scrm: http://scrm.github.io/ \n",
    "\n",
    "datadir = \"triploidconstant\"\n",
    "\n",
    "initialT = 0.5\n",
    "\n",
    "trcNresultsFilenames = []\n",
    "\n",
    "msCmds = open('sim_ms_commands_constant_triploid.txt', 'w')\n",
    "for asexGen in asexGensRescaled:\n",
    "    for rep in xrange(1, numReps+1):\n",
    "        filename = \"{}/sim_data_t{}_rho{}_asex{}_triploid_rep{}\".format(datadir, theta, rho, asexGen, rep)\n",
    "        msCmd = \"scrm 3 {numChroms} -t {theta} -r {rho} {chromLen} | ./add_asex.py - {asexGen} --triploid > {filename}\".format(numChroms = numChromosomes,\n",
    "                                                                   theta = theta, rho = rho,\n",
    "                                                                   chromLen = chromLength, asexGen = asexGen,\n",
    "                                                                   filename = filename)\n",
    "        psmcfaFilename = filename + '.psmc'\n",
    "        ms2psmcfaCmd = './ms2psmcfa.py {} > {}'.format(filename, psmcfaFilename)\n",
    "        resultsFilename = \"{}/results_t{}_rho{}_asex{}_triploid_rep{}\".format(datadir, theta, rho, asexGen, rep)\n",
    "        resultsFilenameT = \"{}/results_t{}_rho{}_asex{}_triploid_rep{}_T\".format(datadir, theta, rho, asexGen, rep)\n",
    "        psmcCmd = 'psmc {} > {}'.format(psmcfaFilename, resultsFilename)\n",
    "        psmcCmdT = 'psmc {} -T {} > {}'.format(psmcfaFilename, initialT, resultsFilenameT)\n",
    "        wholeCmd = '{} && {} && {} && {}'.format(msCmd, ms2psmcfaCmd, psmcCmd, psmcCmdT)\n",
    "        msCmds.write(wholeCmd+'\\n')\n",
    "# control runs with constant size and no history of asex\n",
    "for rep in xrange(1,numReps+1):\n",
    "    filename = \"{}/sim_data_t{}_rho{}_no_asex_triploid_rep{}\".format(datadir, theta, rho, rep)\n",
    "    msCmd = \"scrm 3 {numChroms} -t {theta} -r {rho} {chromLen} > {filename}\".format(numChroms = numChromosomes,\n",
    "                                                               theta = theta, rho = rho,\n",
    "                                                               chromLen = chromLength,\n",
    "                                                               filename = filename)\n",
    "    psmcfaFilename = filename + '.psmc'\n",
    "    ms2psmcfaCmd = './ms2psmcfa.py {} > {}'.format(filename, psmcfaFilename)\n",
    "    resultsFilename = \"{}/results_t{}_rho{}_no_asex_triploid_rep{}\".format(datadir, theta, rho, rep)\n",
    "    resultsFilenameT = \"{}/results_t{}_rho{}_no_asex_triploid_rep{}_T\".format(datadir, theta, rho, rep)\n",
    "    psmcCmd = 'psmc {} > {}'.format(psmcfaFilename, resultsFilename)\n",
    "    psmcCmdT = 'psmc {} -T {} > {}'.format(psmcfaFilename, initialT, resultsFilenameT)\n",
    "    wholeCmd = '{} && {} && {} && {}'.format(msCmd, ms2psmcfaCmd, psmcCmd, psmcCmdT)\n",
    "    msCmds.write(wholeCmd+'\\n')\n",
    "msCmds.close()"
   ]
  },
  {
   "cell_type": "code",
   "execution_count": 27,
   "metadata": {
    "collapsed": false
   },
   "outputs": [
    {
     "name": "stdout",
     "output_type": "stream",
     "text": [
      "scrm 3 100 -t 6000.0 -r 4000.0 10000000 | ./add_asex.py - 0.1 --triploid > triploidconstant/sim_data_t6000.0_rho4000.0_asex0.1_triploid_rep1 && ./ms2psmcfa.py triploidconstant/sim_data_t6000.0_rho4000.0_asex0.1_triploid_rep1 > triploidconstant/sim_data_t6000.0_rho4000.0_asex0.1_triploid_rep1.psmc && psmc triploidconstant/sim_data_t6000.0_rho4000.0_asex0.1_triploid_rep1.psmc > triploidconstant/results_t6000.0_rho4000.0_asex0.1_triploid_rep1 && psmc triploidconstant/sim_data_t6000.0_rho4000.0_asex0.1_triploid_rep1.psmc -T 0.5 > triploidconstant/results_t6000.0_rho4000.0_asex0.1_triploid_rep1_T\n",
      "scrm 3 100 -t 6000.0 -r 4000.0 10000000 > triploidconstant/sim_data_t6000.0_rho4000.0_no_asex_triploid_rep5 && ./ms2psmcfa.py triploidconstant/sim_data_t6000.0_rho4000.0_no_asex_triploid_rep5 > triploidconstant/sim_data_t6000.0_rho4000.0_no_asex_triploid_rep5.psmc && psmc triploidconstant/sim_data_t6000.0_rho4000.0_no_asex_triploid_rep5.psmc > triploidconstant/results_t6000.0_rho4000.0_no_asex_triploid_rep5 && psmc triploidconstant/sim_data_t6000.0_rho4000.0_no_asex_triploid_rep5.psmc -T 0.5 > triploidconstant/results_t6000.0_rho4000.0_no_asex_triploid_rep5_T\n"
     ]
    }
   ],
   "source": [
    "%%bash\n",
    "\n",
    "head -n 1 'sim_ms_commands_constant_triploid.txt'\n",
    "tail -n 1 'sim_ms_commands_constant_triploid.txt'"
   ]
  },
  {
   "cell_type": "code",
   "execution_count": 28,
   "metadata": {
    "collapsed": true
   },
   "outputs": [],
   "source": [
    "%%bash\n",
    "\n",
    "#scp sim_ms_commands_constant_triploid.txt peter@ammodramus:/tmp/"
   ]
  },
  {
   "cell_type": "code",
   "execution_count": 29,
   "metadata": {
    "collapsed": false
   },
   "outputs": [],
   "source": [
    "trcNrows = {}\n",
    "for asexGenRescaled, asexGen in zip(asexGensRescaled, asexGens):\n",
    "    for rep in xrange(1, numReps+1):\n",
    "        resultsFilename = \"{}/results_t{}_rho{}_asex{}_triploid_rep{}\".format(datadir, theta, rho, asexGenRescaled, rep)\n",
    "        resultsFilenameT = \"{}/results_t{}_rho{}_asex{}_triploid_rep{}_T\".format(datadir, theta, rho, asexGenRescaled, rep)\n",
    "        \n",
    "        index = 'asex{}_rep{}'.format(asexGen, rep)\n",
    "        results = read_psmc_results(resultsFilename)\n",
    "        results['asex'] = asexGen\n",
    "        results['rep'] = rep\n",
    "        trcNrows[index] = results\n",
    "        \n",
    "        index = 'asex{}_rep{}_T'.format(asexGen, rep)\n",
    "        results = read_psmc_results(resultsFilenameT)\n",
    "        results['asex'] = asexGen\n",
    "        results['rep'] = rep\n",
    "        trcNrows[index] = results\n",
    "        \n",
    "# control runs with constant size and no history of asex\n",
    "for rep in xrange(1,numReps+1):\n",
    "    resultsFilename = \"{}/results_t{}_rho{}_no_asex_triploid_rep{}\".format(datadir, theta, rho, rep)\n",
    "    resultsFilenameT = \"{}/results_t{}_rho{}_no_asex_triploid_rep{}_T\".format(datadir, theta, rho, rep)\n",
    "    \n",
    "    index = 'no_asex_rep{}'.format(rep)\n",
    "    results = read_psmc_results(resultsFilename)\n",
    "    results['asex'] = None\n",
    "    results['rep'] = rep\n",
    "    trcNrows[index] = results\n",
    "    \n",
    "    index = 'no_asex_rep{}_T'.format(rep)\n",
    "    results = read_psmc_results(resultsFilenameT)\n",
    "    results['asex'] = None\n",
    "    results['rep'] = rep\n",
    "    trcNrows[index] = results\n"
   ]
  },
  {
   "cell_type": "code",
   "execution_count": 30,
   "metadata": {
    "collapsed": false
   },
   "outputs": [],
   "source": [
    "# make a dataframe for standard (var-N) psmc data\n",
    "\n",
    "trcNdat = pd.DataFrame.from_dict(trcNrows, orient = 'index')\n",
    "maxi = int(trcNdat['maxi'].max())\n",
    "newCols = ['asex', 'rep', 'theta', 'rho', 'divtime']\n",
    "newCols.extend(['lambda'+str(i) for i in xrange(0,maxi+1)])\n",
    "newCols.extend(['t'+str(i) for i in xrange(0,maxi+1)])\n",
    "newCols.append('maxi')\n",
    "trcNdat = trcNdat[newCols]"
   ]
  },
  {
   "cell_type": "code",
   "execution_count": 31,
   "metadata": {
    "collapsed": false
   },
   "outputs": [],
   "source": [
    "# rescaling the population sizes and times in the standard (var-N) simulations\n",
    "\n",
    "binSize = 100  # we binned the bp's by 100 in the input to PSMC\n",
    "\n",
    "trcNdat['lambda0'] = trcNdat['theta'] / (4.0*mu) / binSize\n",
    "\n",
    "trcNdat['divtime'] = 2.0*trcNdat['lambda0'] * trcNdat['divtime']\n",
    "\n",
    "for i in xrange(1, maxi+1):\n",
    "    colLam = 'lambda'+str(i)\n",
    "    colT = 't'+str(i)\n",
    "    trcNdat[colLam] = trcNdat['lambda0'] * trcNdat[colLam]\n",
    "    trcNdat[colT] = 2.0*trcNdat['lambda0'] * trcNdat[colT]"
   ]
  },
  {
   "cell_type": "code",
   "execution_count": 32,
   "metadata": {
    "collapsed": false
   },
   "outputs": [
    {
     "data": {
      "image/png": "[encoded data removed]",
      "text/plain": [
       "<matplotlib.figure.Figure at 0x7f6e3ce5ba50>"
      ]
     },
     "metadata": {},
     "output_type": "display_data"
    }
   ],
   "source": [
    "# plot the triploid constant-N data\n",
    "\n",
    "fig, axes = plt.subplots(nrows=2,ncols=len(asexGens), figsize = (26,10))\n",
    "for colIdx, asexGen in enumerate(asexGens):\n",
    "    # first row: no T\n",
    "    datp = trcNdat.loc[(trcNdat['asex'] == asexGen) & (np.isnan(trcNdat['divtime'])),:]\n",
    "    axis = axes[0, colIdx]\n",
    "    for rowIdx in xrange(datp.shape[0]):\n",
    "        maxi = int(datp.ix[rowIdx,'maxi'])\n",
    "        ts = datp.ix[rowIdx,'t0':('t{}'.format(maxi))]\n",
    "        lambdas = datp.ix[rowIdx, 'lambda0':('lambda{}'.format(maxi))]\n",
    "        divtime = datp.ix[rowIdx, 'divtime']\n",
    "        if np.isnan(divtime):\n",
    "            divtime = None\n",
    "        plot_psmc(axis, ts, lambdas, divtime, maxt = 100000)\n",
    "        axis.axvline(asexGen, color = 'gray', lw = 5, ls = 'dashed')\n",
    "        axis.axhline(np.log10(N), color = 'gray', lw = 3, ls = 'dashed')\n",
    "        axis.set_title('asex transition @ {} generations, no T'.format(asexGen))\n",
    "        axis.set_xlabel('generation')\n",
    "        axis.set_ylabel('log10(N)')\n",
    "    # second row: with T\n",
    "    datp = trcNdat.loc[(trcNdat['asex'] == asexGen) & (~np.isnan(trcNdat['divtime'])),:]\n",
    "    axis = axes[1, colIdx]\n",
    "    for rowIdx in xrange(datp.shape[0]):\n",
    "        maxi = int(datp.ix[rowIdx,'maxi'])\n",
    "        ts = datp.ix[rowIdx,'t0':('t{}'.format(maxi))]\n",
    "        lambdas = datp.ix[rowIdx, 'lambda0':('lambda{}'.format(maxi))]\n",
    "        divtime = datp.ix[rowIdx, 'divtime']\n",
    "        if np.isnan(divtime):\n",
    "            divtime = None\n",
    "        plot_psmc(axis, ts, lambdas, divtime, maxt = 100000)\n",
    "        # add true divergence time\n",
    "        axis.axvline(asexGen, color = 'gray', lw = 3, ls = 'dashed')\n",
    "        axis.axhline(np.log10(N), color = 'gray', lw = 3, ls = 'dashed')\n",
    "        axis.set_title('asex transition @ {} generations, with T'.format(asexGen))\n",
    "        axis.set_xlabel('generation')\n",
    "        axis.set_ylabel('log10(N)')\n",
    "        "
   ]
  },
  {
   "cell_type": "markdown",
   "metadata": {},
   "source": [
    "**Figure summary:** Inferred sex-to-asex transition times from \"diploidized\" triploid data. Top row shows parameters inferred when the `-T` transition parameter is disabled, bottom row when `-T` is enabled. PSMC takes as its input the spacing of polymorphic positions in the genome. With three haploid genomes targeted by mutations during the asexual part of the lineage's ancestry, there are more of these Meselson-effect mutations, which is apparently interpreted as a longer period of asexual ancestry.\n",
    "\n",
    "Quantitatively these inferences are biased towards a longer period of asexual ancestry, but qualitatively the PSMC can still determine whether the sex-to-asex transition was relatively recent or ancient. The precise measurement of these parameters depends on knowing the per-generation, per-base mutation rate, which is unknown in *Potamopyrgus*, so our conclusions will necessarily be qualitative anyway. Is it then worth it to develop a triploid versoin of PSMC with the divergence parameter incorporated and modeled appropriately? One reason to make the full model is to get a better sense of what the diploid sexual ancestor's history might have been."
   ]
  },
  {
   "cell_type": "markdown",
   "metadata": {},
   "source": [
    "**Control (sexual) triploid data**. Testing whether triploidy itself can cause a signal of asexual history in sexually reproducing organisms using PSMC. When the `-T` parameter is enabled, the inferred value of the sex-to-asex transition time is $T=0$ for every replicate, indicating that triploidy alone does not cause PSMC to infer asexuality. (To compare to previous figures: the lower panel here would have vertical lines along the vertical axis [$x=0$], indicating no inferred asexual history.) The inferred demographic history of the population is incorrect, however. The true (constant) population size is $N = 10^4$, but since PSMC is modeled under the assumption of diploid data, it infers recent growth in the population owing to the fact that the additional lineage in the initial part of the gene genealogy yields more polymorphic sites in this recent period."
   ]
  },
  {
   "cell_type": "markdown",
   "metadata": {},
   "source": [
    "# Recent exponential growth"
   ]
  },
  {
   "cell_type": "markdown",
   "metadata": {},
   "source": [
    "### diploids"
   ]
  },
  {
   "cell_type": "code",
   "execution_count": 33,
   "metadata": {
    "collapsed": false
   },
   "outputs": [],
   "source": [
    "N0 = 1000000\n",
    "N1 = 5000\n",
    "Tgrowth = 100\n",
    "\n",
    "rescaledN1 = N1 / (4.0*N0)\n",
    "rescaledTgrowth = Tgrowth / (4.0*N0)\n",
    "growthRate = np.log(float(N0)/N1) / rescaledTgrowth\n",
    "\n",
    "mu = 1.5e-8\n",
    "r = 1.0e-8  # recombination rate\n",
    "chromLength = int(1e7)  # 10 Mbp per chromosome\n",
    "numChromosomes = 100  # simulate 100 chromosomes per replicate\n",
    "\n",
    "# scaled parameters for entire chromosomes\n",
    "rho = 4*N0*r*chromLength\n",
    "theta = 4*N0*mu*chromLength\n",
    "\n",
    "numReps = 5\n",
    "\n",
    "# the different transition times to test\n",
    "asexGens = np.array([2000, 5000, 10000, 20000, 40000])\n",
    "asexGensRescaled = asexGens / (2.0*N0)  # rescaled by 2*N\n",
    "\n",
    "trueTs = [0, 100,100000]\n",
    "trueNs = [1000000, 5000,5000]"
   ]
  },
  {
   "cell_type": "code",
   "execution_count": 34,
   "metadata": {
    "collapsed": false
   },
   "outputs": [],
   "source": [
    "datadir = \"diploidexp\"\n",
    "\n",
    "initialT = 0.5\n",
    "\n",
    "msCmds = open('sim_ms_commands_diploid_exp.txt', 'w')\n",
    "for asexGen in asexGensRescaled:\n",
    "    for rep in xrange(1, numReps+1):\n",
    "        filename = \"{}/sim_data_t{}_rho{}_asex{}_diploid_exp_rep{}\".format(datadir, theta, rho, asexGen, rep)\n",
    "        msCmd = \"scrm 2 {numChroms} -t {theta} -r {rho} {chromLen} -eG 0 {growthRate} -eN {rescaledTgrowth} {rescaledN1}| ./add_asex.py - {asexGen} > {filename}\".format(numChroms = numChromosomes,\n",
    "                                                                   theta = theta, rho = rho,\n",
    "                                                                   chromLen = chromLength, growthRate = growthRate,\n",
    "                                                                   rescaledTgrowth = rescaledTgrowth, rescaledN1 = rescaledN1,\n",
    "                                                                   asexGen = asexGen, filename = filename)\n",
    "        psmcfaFilename = filename + '.psmc'\n",
    "        ms2psmcfaCmd = './ms2psmcfa.py {} > {}'.format(filename, psmcfaFilename)\n",
    "        resultsFilename = \"{}/results_t{}_rho{}_asex{}_diploid_exp_rep{}\".format(datadir, theta, rho, asexGen, rep)\n",
    "        resultsFilenameT = \"{}/results_t{}_rho{}_asex{}_diploid_exp_rep{}_T\".format(datadir, theta, rho, asexGen, rep)\n",
    "        psmcCmd = 'psmc {} > {}'.format(psmcfaFilename, resultsFilename)\n",
    "        psmcCmdT = 'psmc {} -T {} > {}'.format(psmcfaFilename, initialT, resultsFilenameT)\n",
    "        wholeCmd = '{} && {} && {} && {}'.format(msCmd, ms2psmcfaCmd, psmcCmd, psmcCmdT)\n",
    "        msCmds.write(wholeCmd+'\\n')\n",
    "# control runs with constant size and no history of asex\n",
    "for rep in xrange(1,numReps+1):\n",
    "    filename = \"{}/sim_data_t{}_rho{}_no_asex_diploid_exp_rep{}\".format(datadir, theta, rho, rep)\n",
    "    msCmd = \"scrm 2 {numChroms} -t {theta} -r {rho} {chromLen} -eG 0 {growthRate} -eN {rescaledTgrowth} {rescaledN1} > {filename}\".format(numChroms = numChromosomes,\n",
    "                                                               theta = theta, rho = rho,\n",
    "                                                               chromLen = chromLength, growthRate = growthRate,\n",
    "                                                               rescaledTgrowth = rescaledTgrowth, rescaledN1 = rescaledN1,\n",
    "                                                               filename = filename)\n",
    "    psmcfaFilename = filename + '.psmc'\n",
    "    ms2psmcfaCmd = './ms2psmcfa.py {} > {}'.format(filename, psmcfaFilename)\n",
    "    resultsFilename = \"{}/results_t{}_rho{}_no_asex_diploid_exp_rep{}\".format(datadir, theta, rho, rep)\n",
    "    resultsFilenameT = \"{}/results_t{}_rho{}_no_asex_diploid_exp_rep{}_T\".format(datadir, theta, rho, rep)\n",
    "    psmcCmd = 'psmc {} > {}'.format(psmcfaFilename, resultsFilename)\n",
    "    psmcCmdT = 'psmc {} -T {} > {}'.format(psmcfaFilename, initialT, resultsFilenameT)\n",
    "    wholeCmd = '{} && {} && {} && {}'.format(msCmd, ms2psmcfaCmd, psmcCmd, psmcCmdT)\n",
    "    msCmds.write(wholeCmd+'\\n')\n",
    "msCmds.close()"
   ]
  },
  {
   "cell_type": "code",
   "execution_count": 35,
   "metadata": {
    "collapsed": false
   },
   "outputs": [
    {
     "name": "stdout",
     "output_type": "stream",
     "text": [
      "scrm 2 100 -t 600000.0 -r 400000.0 10000000 -eG 0 211932.694662 -eN 2.5e-05 0.00125| ./add_asex.py - 0.001 > diploidexp/sim_data_t600000.0_rho400000.0_asex0.001_diploid_exp_rep1 && ./ms2psmcfa.py diploidexp/sim_data_t600000.0_rho400000.0_asex0.001_diploid_exp_rep1 > diploidexp/sim_data_t600000.0_rho400000.0_asex0.001_diploid_exp_rep1.psmc && psmc diploidexp/sim_data_t600000.0_rho400000.0_asex0.001_diploid_exp_rep1.psmc > diploidexp/results_t600000.0_rho400000.0_asex0.001_diploid_exp_rep1 && psmc diploidexp/sim_data_t600000.0_rho400000.0_asex0.001_diploid_exp_rep1.psmc -T 0.5 > diploidexp/results_t600000.0_rho400000.0_asex0.001_diploid_exp_rep1_T\n",
      "scrm 2 100 -t 600000.0 -r 400000.0 10000000 -eG 0 211932.694662 -eN 2.5e-05 0.00125 > diploidexp/sim_data_t600000.0_rho400000.0_no_asex_diploid_exp_rep5 && ./ms2psmcfa.py diploidexp/sim_data_t600000.0_rho400000.0_no_asex_diploid_exp_rep5 > diploidexp/sim_data_t600000.0_rho400000.0_no_asex_diploid_exp_rep5.psmc && psmc diploidexp/sim_data_t600000.0_rho400000.0_no_asex_diploid_exp_rep5.psmc > diploidexp/results_t600000.0_rho400000.0_no_asex_diploid_exp_rep5 && psmc diploidexp/sim_data_t600000.0_rho400000.0_no_asex_diploid_exp_rep5.psmc -T 0.5 > diploidexp/results_t600000.0_rho400000.0_no_asex_diploid_exp_rep5_T\n"
     ]
    }
   ],
   "source": [
    "%%bash\n",
    "\n",
    "head -n 1 sim_ms_commands_diploid_exp.txt\n",
    "tail -n 1 sim_ms_commands_diploid_exp.txt"
   ]
  },
  {
   "cell_type": "code",
   "execution_count": 36,
   "metadata": {
    "collapsed": true
   },
   "outputs": [],
   "source": [
    "%%bash\n",
    "\n",
    "#scp sim_ms_commands_diploid_exp.txt peter@ammodramus:/tmp/"
   ]
  },
  {
   "cell_type": "code",
   "execution_count": 37,
   "metadata": {
    "collapsed": false
   },
   "outputs": [],
   "source": [
    "dipExpRows = {}\n",
    "for asexGenRescaled, asexGen in zip(asexGensRescaled, asexGens):\n",
    "    for rep in xrange(1, numReps+1):\n",
    "        resultsFilename = \"{}/results_t{}_rho{}_asex{}_diploid_exp_rep{}\".format(datadir, theta, rho, asexGenRescaled, rep)\n",
    "        resultsFilenameT = \"{}/results_t{}_rho{}_asex{}_diploid_exp_rep{}_T\".format(datadir, theta, rho, asexGenRescaled, rep)\n",
    "        \n",
    "        index = 'asex{}_rep{}'.format(asexGen, rep)\n",
    "        results = read_psmc_results(resultsFilename)\n",
    "        results['asex'] = asexGen\n",
    "        results['rep'] = rep\n",
    "        dipExpRows[index] = results\n",
    "        \n",
    "        index = 'asex{}_rep{}_T'.format(asexGen, rep)\n",
    "        results = read_psmc_results(resultsFilenameT)\n",
    "        results['asex'] = asexGen\n",
    "        results['rep'] = rep\n",
    "        dipExpRows[index] = results\n",
    "        \n",
    "# control runs with constant size and no history of asex\n",
    "for rep in xrange(1,numReps+1):\n",
    "    resultsFilename = \"{}/results_t{}_rho{}_no_asex_diploid_exp_rep{}\".format(datadir, theta, rho, rep)\n",
    "    resultsFilenameT = \"{}/results_t{}_rho{}_no_asex_diploid_exp_rep{}_T\".format(datadir, theta, rho, rep)\n",
    "    \n",
    "    index = 'no_asex_rep{}'.format(rep)\n",
    "    results = read_psmc_results(resultsFilename)\n",
    "    results['asex'] = None\n",
    "    results['rep'] = rep\n",
    "    dipExpRows[index] = results\n",
    "    \n",
    "    index = 'no_asex_rep{}_T'.format(rep)\n",
    "    results = read_psmc_results(resultsFilenameT)\n",
    "    results['asex'] = None\n",
    "    results['rep'] = rep\n",
    "    dipExpRows[index] = results\n",
    "\n",
    "# make a dataframe for standard (var-N) psmc data\n",
    "\n",
    "dipExpDat = pd.DataFrame.from_dict(dipExpRows, orient = 'index')\n",
    "maxi = int(dipExpDat['maxi'].max())\n",
    "newCols = ['asex', 'rep', 'theta', 'rho', 'divtime']\n",
    "newCols.extend(['lambda'+str(i) for i in xrange(0,maxi+1)])\n",
    "newCols.extend(['t'+str(i) for i in xrange(0,maxi+1)])\n",
    "newCols.append('maxi')\n",
    "dipExpDat = dipExpDat[newCols]\n",
    "\n",
    "# rescaling input\n",
    "\n",
    "binSize = 100  # we binned the bp's by 100 in the input to PSMC\n",
    "\n",
    "dipExpDat['lambda0'] = dipExpDat['theta'] / (4.0*mu) / binSize\n",
    "\n",
    "dipExpDat['divtime'] = 2.0*dipExpDat['lambda0'] * dipExpDat['divtime']\n",
    "\n",
    "for i in xrange(1, maxi+1):\n",
    "    colLam = 'lambda'+str(i)\n",
    "    colT = 't'+str(i)\n",
    "    dipExpDat[colLam] = dipExpDat['lambda0'] * dipExpDat[colLam]\n",
    "    dipExpDat[colT] = 2.0*dipExpDat['lambda0'] * dipExpDat[colT]"
   ]
  },
  {
   "cell_type": "code",
   "execution_count": 38,
   "metadata": {
    "collapsed": false
   },
   "outputs": [
    {
     "data": {
      "image/png": "[encoded data removed]",
      "text/plain": [
       "<matplotlib.figure.Figure at 0x7f6e3c6cdf10>"
      ]
     },
     "metadata": {},
     "output_type": "display_data"
    }
   ],
   "source": [
    "###### plot the diploid exponential data\n",
    "\n",
    "fig, axes = plt.subplots(nrows=2,ncols=len(asexGens), figsize = (26,10))\n",
    "for colIdx, asexGen in enumerate(asexGens):\n",
    "    # first row: no T\n",
    "    datp = dipExpDat.loc[(dipExpDat['asex'] == asexGen) & (np.isnan(dipExpDat['divtime'])),:]\n",
    "    axis = axes[0, colIdx]\n",
    "    plot_psmc(axis, trueTs, trueNs, asexGen, color='gray', lw=5, ls='dashed')\n",
    "    for rowIdx in xrange(datp.shape[0]):\n",
    "        maxi = int(datp.ix[rowIdx,'maxi'])\n",
    "        ts = datp.ix[rowIdx,'t0':('t{}'.format(maxi))]\n",
    "        lambdas = datp.ix[rowIdx, 'lambda0':('lambda{}'.format(maxi))]\n",
    "        divtime = datp.ix[rowIdx, 'divtime']\n",
    "        if np.isnan(divtime):\n",
    "            divtime = None\n",
    "        plot_psmc(axis, ts, lambdas, divtime, maxt = 60000)\n",
    "        axis.set_title('asex transition @ {} generations, no T'.format(asexGen))\n",
    "        axis.set_xlabel('generations ago')\n",
    "        axis.set_ylabel('log10(N)')\n",
    "    # second row: T\n",
    "    datp = dipExpDat.loc[(dipExpDat['asex'] == asexGen) & (~np.isnan(dipExpDat['divtime'])),:]\n",
    "    axis = axes[1, colIdx]\n",
    "    plot_psmc(axis, trueTs, trueNs, asexGen, color='gray', lw=5, ls='dashed')\n",
    "    for rowIdx in xrange(datp.shape[0]):\n",
    "        maxi = int(datp.ix[rowIdx,'maxi'])\n",
    "        ts = datp.ix[rowIdx,'t0':('t{}'.format(maxi))]\n",
    "        lambdas = datp.ix[rowIdx, 'lambda0':('lambda{}'.format(maxi))]\n",
    "        divtime = datp.ix[rowIdx, 'divtime']\n",
    "        if np.isnan(divtime):\n",
    "            divtime = None\n",
    "        plot_psmc(axis, ts, lambdas, divtime, maxt = 60000)\n",
    "        # add true divergence time\n",
    "        axis.set_title('asex transition @ {} generations, with T'.format(asexGen))\n",
    "        axis.set_xlabel('generations ago')\n",
    "        axis.set_ylabel('log10(N)')"
   ]
  },
  {
   "cell_type": "markdown",
   "metadata": {},
   "source": [
    "PSMC is bad at detecting recent population changes, and huge expansion in the last 100 generations is definitely not something that it is going to infer well. Here, this recent expansion gives PSMC trouble estimating the population size after the sex-to-asex transition, but the timing of the sex-to-asex transition is still inferred accurately. This is encouraging: recent demography doesn't seem to bias the estimation of the sex-to-asex transition time."
   ]
  },
  {
   "cell_type": "markdown",
   "metadata": {},
   "source": [
    "### now triploids with recent exponential growth"
   ]
  },
  {
   "cell_type": "code",
   "execution_count": 39,
   "metadata": {
    "collapsed": false
   },
   "outputs": [],
   "source": [
    "# now triploids with exponential growth\n",
    "\n",
    "datadir = \"triploidexp\"\n",
    "\n",
    "initialT = 0.5\n",
    "\n",
    "msCmds = open('sim_ms_commands_triploid_exp.txt', 'w')\n",
    "for asexGen in asexGensRescaled:\n",
    "    for rep in xrange(1, numReps+1):\n",
    "        filename = \"{}/sim_data_t{}_rho{}_asex{}_triploid_exp_rep{}\".format(datadir, theta, rho, asexGen, rep)\n",
    "        msCmd = \"scrm 3 {numChroms} -t {theta} -r {rho} {chromLen} -eG 0 {growthRate} -eN {rescaledTgrowth} {rescaledN1} | ./add_asex.py - {asexGen} --triploid > {filename}\".format(numChroms = numChromosomes,\n",
    "                                                                   theta = theta, rho = rho,\n",
    "                                                                   chromLen = chromLength, growthRate = growthRate,\n",
    "                                                                   rescaledTgrowth = rescaledTgrowth, rescaledN1 = rescaledN1,\n",
    "                                                                   asexGen = asexGen, filename = filename)\n",
    "        psmcfaFilename = filename + '.psmc'\n",
    "        ms2psmcfaCmd = './ms2psmcfa.py {} > {}'.format(filename, psmcfaFilename)\n",
    "        resultsFilename = \"{}/results_t{}_rho{}_asex{}_triploid_exp_rep{}\".format(datadir, theta, rho, asexGen, rep)\n",
    "        resultsFilenameT = \"{}/results_t{}_rho{}_asex{}_triploid_exp_rep{}_T\".format(datadir, theta, rho, asexGen, rep)\n",
    "        psmcCmd = 'psmc {} > {}'.format(psmcfaFilename, resultsFilename)\n",
    "        psmcCmdT = 'psmc {} -T {} > {}'.format(psmcfaFilename, initialT, resultsFilenameT)\n",
    "        wholeCmd = '{} && {} && {} && {}'.format(msCmd, ms2psmcfaCmd, psmcCmd, psmcCmdT)\n",
    "        msCmds.write(wholeCmd+'\\n')\n",
    "# control runs with constant size and no history of asex\n",
    "for rep in xrange(1,numReps+1):\n",
    "    filename = \"{}/sim_data_t{}_rho{}_no_asex_triploid_exp_rep{}\".format(datadir, theta, rho, rep)\n",
    "    msCmd = \"scrm 3 {numChroms} -t {theta} -r {rho} {chromLen} -eG 0 {growthRate} -eN {rescaledTgrowth} {rescaledN1} > {filename}\".format(numChroms = numChromosomes,\n",
    "                                                               theta = theta, rho = rho,\n",
    "                                                               chromLen = chromLength, growthRate = growthRate,\n",
    "                                                               rescaledTgrowth = rescaledTgrowth, rescaledN1 = rescaledN1,\n",
    "                                                               filename = filename)\n",
    "    psmcfaFilename = filename + '.psmc'\n",
    "    ms2psmcfaCmd = './ms2psmcfa.py {} > {}'.format(filename, psmcfaFilename)\n",
    "    resultsFilename = \"{}/results_t{}_rho{}_no_asex_triploid_exp_rep{}\".format(datadir, theta, rho, rep)\n",
    "    resultsFilenameT = \"{}/results_t{}_rho{}_no_asex_triploid_exp_rep{}_T\".format(datadir, theta, rho, rep)\n",
    "    psmcCmd = 'psmc {} > {}'.format(psmcfaFilename, resultsFilename)\n",
    "    psmcCmdT = 'psmc {} -T {} > {}'.format(psmcfaFilename, initialT, resultsFilenameT)\n",
    "    wholeCmd = '{} && {} && {} && {}'.format(msCmd, ms2psmcfaCmd, psmcCmd, psmcCmdT)\n",
    "    msCmds.write(wholeCmd+'\\n')\n",
    "msCmds.close()"
   ]
  },
  {
   "cell_type": "code",
   "execution_count": 40,
   "metadata": {
    "collapsed": false
   },
   "outputs": [
    {
     "name": "stdout",
     "output_type": "stream",
     "text": [
      "scrm 3 100 -t 600000.0 -r 400000.0 10000000 -eG 0 211932.694662 -eN 2.5e-05 0.00125 | ./add_asex.py - 0.001 --triploid > triploidexp/sim_data_t600000.0_rho400000.0_asex0.001_triploid_exp_rep1 && ./ms2psmcfa.py triploidexp/sim_data_t600000.0_rho400000.0_asex0.001_triploid_exp_rep1 > triploidexp/sim_data_t600000.0_rho400000.0_asex0.001_triploid_exp_rep1.psmc && psmc triploidexp/sim_data_t600000.0_rho400000.0_asex0.001_triploid_exp_rep1.psmc > triploidexp/results_t600000.0_rho400000.0_asex0.001_triploid_exp_rep1 && psmc triploidexp/sim_data_t600000.0_rho400000.0_asex0.001_triploid_exp_rep1.psmc -T 0.5 > triploidexp/results_t600000.0_rho400000.0_asex0.001_triploid_exp_rep1_T\n",
      "scrm 3 100 -t 600000.0 -r 400000.0 10000000 -eG 0 211932.694662 -eN 2.5e-05 0.00125 > triploidexp/sim_data_t600000.0_rho400000.0_no_asex_triploid_exp_rep5 && ./ms2psmcfa.py triploidexp/sim_data_t600000.0_rho400000.0_no_asex_triploid_exp_rep5 > triploidexp/sim_data_t600000.0_rho400000.0_no_asex_triploid_exp_rep5.psmc && psmc triploidexp/sim_data_t600000.0_rho400000.0_no_asex_triploid_exp_rep5.psmc > triploidexp/results_t600000.0_rho400000.0_no_asex_triploid_exp_rep5 && psmc triploidexp/sim_data_t600000.0_rho400000.0_no_asex_triploid_exp_rep5.psmc -T 0.5 > triploidexp/results_t600000.0_rho400000.0_no_asex_triploid_exp_rep5_T\n"
     ]
    }
   ],
   "source": [
    "%%bash\n",
    "\n",
    "head -n 1 sim_ms_commands_triploid_exp.txt\n",
    "tail -n 1 sim_ms_commands_triploid_exp.txt"
   ]
  },
  {
   "cell_type": "code",
   "execution_count": 41,
   "metadata": {
    "collapsed": false
   },
   "outputs": [],
   "source": [
    "%%bash\n",
    "\n",
    "#ssh peter@ammodramus \"mkdir -p /tmp/triploidexp\"\n",
    "#scp sim_ms_commands_triploid_exp.txt peter@ammodramus:/tmp/"
   ]
  },
  {
   "cell_type": "markdown",
   "metadata": {},
   "source": [
    "Next: gene conversion, calculate number of states and estimate runtime for full triploid model, fragmentize the genome."
   ]
  },
  {
   "cell_type": "code",
   "execution_count": 42,
   "metadata": {
    "collapsed": false
   },
   "outputs": [],
   "source": [
    "datadir = \"triploidexp\"\n",
    "\n",
    "tripExpRows = {}\n",
    "for asexGenRescaled, asexGen in zip(asexGensRescaled, asexGens):\n",
    "    for rep in xrange(1, numReps+1):\n",
    "        resultsFilename = \"{}/results_t{}_rho{}_asex{}_triploid_exp_rep{}\".format(datadir, theta, rho, asexGenRescaled, rep)\n",
    "        resultsFilenameT = \"{}/results_t{}_rho{}_asex{}_triploid_exp_rep{}_T\".format(datadir, theta, rho, asexGenRescaled, rep)\n",
    "        \n",
    "        index = 'asex{}_rep{}'.format(asexGen, rep)\n",
    "        results = read_psmc_results(resultsFilename)\n",
    "        results['asex'] = asexGen\n",
    "        results['rep'] = rep\n",
    "        tripExpRows[index] = results\n",
    "        \n",
    "        index = 'asex{}_rep{}_T'.format(asexGen, rep)\n",
    "        results = read_psmc_results(resultsFilenameT)\n",
    "        results['asex'] = asexGen\n",
    "        results['rep'] = rep\n",
    "        tripExpRows[index] = results\n",
    "        \n",
    "# control runs with constant size and no history of asex\n",
    "for rep in xrange(1,numReps+1):\n",
    "    resultsFilename = \"{}/results_t{}_rho{}_no_asex_triploid_exp_rep{}\".format(datadir, theta, rho, rep)\n",
    "    resultsFilenameT = \"{}/results_t{}_rho{}_no_asex_triploid_exp_rep{}_T\".format(datadir, theta, rho, rep)\n",
    "    \n",
    "    index = 'no_asex_rep{}'.format(rep)\n",
    "    results = read_psmc_results(resultsFilename)\n",
    "    results['asex'] = None\n",
    "    results['rep'] = rep\n",
    "    tripExpRows[index] = results\n",
    "    \n",
    "    index = 'no_asex_rep{}_T'.format(rep)\n",
    "    results = read_psmc_results(resultsFilenameT)\n",
    "    results['asex'] = None\n",
    "    results['rep'] = rep\n",
    "    tripExpRows[index] = results\n",
    "\n",
    "# make a dataframe for standard (var-N) psmc data\n",
    "\n",
    "tripExpDat = pd.DataFrame.from_dict(tripExpRows, orient = 'index')\n",
    "maxi = int(tripExpDat['maxi'].max())\n",
    "newCols = ['asex', 'rep', 'theta', 'rho', 'divtime']\n",
    "newCols.extend(['lambda'+str(i) for i in xrange(0,maxi+1)])\n",
    "newCols.extend(['t'+str(i) for i in xrange(0,maxi+1)])\n",
    "newCols.append('maxi')\n",
    "tripExpDat = tripExpDat[newCols]\n",
    "\n",
    "# rescaling input\n",
    "\n",
    "binSize = 100  # we binned the bp's by 100 in the input to PSMC\n",
    "\n",
    "tripExpDat['lambda0'] = tripExpDat['theta'] / (4.0*mu) / binSize\n",
    "\n",
    "tripExpDat['divtime'] = 2.0*tripExpDat['lambda0'] * tripExpDat['divtime']\n",
    "\n",
    "for i in xrange(1, maxi+1):\n",
    "    colLam = 'lambda'+str(i)\n",
    "    colT = 't'+str(i)\n",
    "    tripExpDat[colLam] = tripExpDat['lambda0'] * tripExpDat[colLam]\n",
    "    tripExpDat[colT] = 2.0*tripExpDat['lambda0'] * tripExpDat[colT]"
   ]
  },
  {
   "cell_type": "code",
   "execution_count": 43,
   "metadata": {
    "collapsed": false
   },
   "outputs": [
    {
     "data": {
      "image/png": "[encoded data removed]",
      "text/plain": [
       "<matplotlib.figure.Figure at 0x7f6e3d5ebf50>"
      ]
     },
     "metadata": {},
     "output_type": "display_data"
    }
   ],
   "source": [
    "###### plot the triploid exponential data\n",
    "\n",
    "fig, axes = plt.subplots(nrows=2,ncols=len(asexGens), figsize = (26,10))\n",
    "for colIdx, asexGen in enumerate(asexGens):\n",
    "    # first row: no T\n",
    "    datp = tripExpDat.loc[(tripExpDat['asex'] == asexGen) & (np.isnan(tripExpDat['divtime'])),:]\n",
    "    axis = axes[0, colIdx]\n",
    "    plot_psmc(axis, trueTs, trueNs, asexGen, color='gray', lw=5, ls='dashed')\n",
    "    for rowIdx in xrange(datp.shape[0]):\n",
    "        maxi = int(datp.ix[rowIdx,'maxi'])\n",
    "        ts = datp.ix[rowIdx,'t0':('t{}'.format(maxi))]\n",
    "        lambdas = datp.ix[rowIdx, 'lambda0':('lambda{}'.format(maxi))]\n",
    "        divtime = datp.ix[rowIdx, 'divtime']\n",
    "        if np.isnan(divtime):\n",
    "            divtime = None\n",
    "        plot_psmc(axis, ts, lambdas, divtime, maxt = 60000)\n",
    "        axis.set_title('asex transition @ {} generations, no T'.format(asexGen))\n",
    "        axis.set_xlabel('generations ago')\n",
    "        axis.set_ylabel('log10(N)')\n",
    "    # second row: T\n",
    "    datp = tripExpDat.loc[(tripExpDat['asex'] == asexGen) & (~np.isnan(tripExpDat['divtime'])),:]\n",
    "    axis = axes[1, colIdx]\n",
    "    plot_psmc(axis, trueTs, trueNs, asexGen, color='gray', lw=5, ls='dashed')\n",
    "    for rowIdx in xrange(datp.shape[0]):\n",
    "        maxi = int(datp.ix[rowIdx,'maxi'])\n",
    "        ts = datp.ix[rowIdx,'t0':('t{}'.format(maxi))]\n",
    "        lambdas = datp.ix[rowIdx, 'lambda0':('lambda{}'.format(maxi))]\n",
    "        divtime = datp.ix[rowIdx, 'divtime']\n",
    "        if np.isnan(divtime):\n",
    "            divtime = None\n",
    "        plot_psmc(axis, ts, lambdas, divtime, maxt = 60000)\n",
    "        # add true divergence time\n",
    "        axis.set_title('asex transition @ {} generations, with T'.format(asexGen))\n",
    "        axis.set_xlabel('generations ago')\n",
    "        axis.set_ylabel('log10(N)')"
   ]
  },
  {
   "cell_type": "markdown",
   "metadata": {},
   "source": [
    "Besides the trouble in using triploid data when diploid data should be used, the sex-to-asex transition time is still inferred correctly, at least qualitatively. Like with the diploid data and recent exponential growth, the population size is not estimated correctly in the more distant past. Need to look into this and make sure that this is somehow expected."
   ]
  },
  {
   "cell_type": "markdown",
   "metadata": {},
   "source": [
    "**Next:** fragmentize the data, try to reconstruct, say, \"standard PSMC simulation\" with correct contig sizes reflecting current assembly. Also try slower, longer-term exponential growth."
   ]
  },
  {
   "cell_type": "markdown",
   "metadata": {},
   "source": [
    "# assembly- and genome-specific contig lengths"
   ]
  },
  {
   "cell_type": "markdown",
   "metadata": {},
   "source": [
    "The ms command to generate their \"standard simulation,\" from the paper:\n",
    "\n",
    "    ms 2 100 -t 81960 -r 13560 30000000 -eN 0.01 0.05 -eN 0.0375 0.5 -eN 1.25 1\n",
    "\n",
    "This sets $N_0 = 28000$, $\\theta = 4N_0\\mu = 81960$,\n",
    "thus $\\mu = 2.44 \\times 10^{-8}$, $\\rho = 4N_0r = 13560$, thus\n",
    "$r = 4.04 \\times 10^{-9}$.\n",
    "\n",
    "Changes in population size:\n",
    "\n",
    " - at 1120 generations, $N_0 \\to N_1 = 1400$\n",
    " - at 4200 generations, $N_1 \\to N_2 = 14000$\n",
    " - at 140000 generations, $N_2 \\to N_3 = 28000$\n",
    "\n",
    "Again, we will add $\\{2000, 5000, 10000, 20000, 40000\\}$ generations of asexual reproduction and see how PSMC determines these transition times from the genome-wide signal of the Meselson effect."
   ]
  },
  {
   "cell_type": "code",
   "execution_count": 80,
   "metadata": {
    "collapsed": false
   },
   "outputs": [],
   "source": [
    "N0 = 28000\n",
    "muStd = 2.44e-8\n",
    "rStd = 4.04e-9\n",
    "numChroms = 100\n",
    "potamoGenomeSize = int(1e9)\n",
    "chromLen = potamoGenomeSize/numChroms\n",
    "theta = 4*N0*muStd*chromLen\n",
    "rho = 4*N0*rStd*chromLen\n",
    "\n",
    "asexGens = np.array([2000, 5000, 10000, 20000, 40000], dtype = np.int)\n",
    "\n",
    "trueTs = np.array([1120, 4200, 140000])\n",
    "trueNs = np.array([1400,14000,28000])"
   ]
  },
  {
   "cell_type": "code",
   "execution_count": 55,
   "metadata": {
    "collapsed": false
   },
   "outputs": [],
   "source": [
    "# generate commands for std sim with assembly-specific data\n",
    "\n",
    "stdAssemblyMsCmd = \"scrm 2 {numChroms} -t {theta} -r {rho} {chromLen} -eN 0.01 0.05 -eN 0.0375 0.5 -eN 1.25 1\".format(\n",
    "    numChroms = numChroms, theta = theta, rho = rho, chromLen = chromLen)\n",
    "\n",
    "datadir = \"stdassemblysimdata\"\n",
    "\n",
    "contigLenFilename = '10k_new_assem_column.txt'\n",
    "\n",
    "stdAsexGensRescaled = asexGens/(2.0*N0)\n",
    "\n",
    "stdMsCmdsAssembly = open('sim_ms_commands_standard_assembly.txt', 'w')\n",
    "for asexGen in stdAsexGensRescaled:\n",
    "    for rep in xrange(1, numReps+1):\n",
    "        filename = \"{}/standard_assembly_sim_data_t{}_rho{}_asex{}_rep{}\".format(datadir, theta, rho, asexGen, rep)\n",
    "        msCmd = stdAssemblyMsCmd + ' | ./add_asex.py - {asexGen} > {filename}'.format(asexGen=asexGen, filename = filename)\n",
    "        ms2psmcfaCmd = 'python contigize_ms.py {msfilename} {conLensFilename} > {msfilename}.psmc'.format(\n",
    "            msfilename = filename, conLensFilename = contigLenFilename)\n",
    "        psmcfilename = '{}/results_standard_assembly_t{}_rho{}_asex{}_rep{}'.format(datadir, theta, rho, asexGen, rep)\n",
    "        psmcCmd = 'psmc {}.psmc > {}'.format(filename, psmcfilename)\n",
    "        psmcfilenameT = '{}/results_standard_assembly_t{}_rho{}_asex{}_rep{}_T'.format(datadir, theta, rho, asexGen, rep)\n",
    "        psmcCmdT = 'psmc {}.psmc -T 0.5 > {}'.format(filename, psmcfilenameT)\n",
    "        wholeCmd = '{} && {} && {} && {}'.format(msCmd, ms2psmcfaCmd, psmcCmd, psmcCmdT)\n",
    "        stdMsCmdsAssembly.write(wholeCmd+'\\n')\n",
    "\n",
    "# control runs with constant size and no history of asex\n",
    "for rep in xrange(1,numReps+1):\n",
    "    filename = \"{}/standard_assembly_sim_data_t{}_rho{}_no_asex_rep{}\".format(datadir, theta, rho, rep)\n",
    "    psmcfilename = filename+'.psmc'\n",
    "    msCmd = stdAssemblyMsCmd + ' > {}'.format(filename)\n",
    "    ms2psmcfaCmd = 'python contigize_ms.py {msfilename} {conLensFilename} > {psmcfilename}'.format(\n",
    "        msfilename = filename, conLensFilename = contigLenFilename, psmcfilename = psmcfilename)\n",
    "    resultsfilename = '{}/results_standard_assembly_t{}_rho{}_no_asex_rep{}'.format(datadir, theta, rho, rep)\n",
    "    psmcCmd = 'psmc {} > {}'.format(psmcfilename, resultsfilename)\n",
    "    resultsfilenameT = '{}/results_standard_assembly_t{}_rho{}_no_asex_rep{}_T'.format(datadir, theta, rho, rep)\n",
    "    psmcCmdT = 'psmc {} -T 0.5 > {}'.format(psmcfilename, resultsfilenameT)\n",
    "    wholeCmd = '{} && {} && {} && {}'.format(msCmd, ms2psmcfaCmd, psmcCmd, psmcCmdT)\n",
    "    stdMsCmdsAssembly.write(wholeCmd+'\\n')\n",
    "stdMsCmdsAssembly.close()"
   ]
  },
  {
   "cell_type": "code",
   "execution_count": 72,
   "metadata": {
    "collapsed": false
   },
   "outputs": [],
   "source": [
    "%%bash\n",
    "\n",
    "#head -n 1 sim_ms_commands_standard_assembly.txt\n",
    "#tail -n 1 sim_ms_commands_standard_assembly.txt\n",
    "\n",
    "#scp sim_ms_commands_standard_assembly.txt peter@ammodramus:/tmp/"
   ]
  },
  {
   "cell_type": "code",
   "execution_count": 102,
   "metadata": {
    "collapsed": false
   },
   "outputs": [],
   "source": [
    "# generate commands for std sim with assembly-specific data\n",
    "\n",
    "stdAssemRows = {}\n",
    "\n",
    "stdAsexGensRescaled = asexGens/(2.0*N0)\n",
    "for asexGen, asexGenUnscaled in zip(stdAsexGensRescaled, asexGens):\n",
    "    for rep in xrange(1, numReps+1):\n",
    "        psmcfilename = '{}/results_standard_assembly_t{}_rho{}_asex{}_rep{}'.format(datadir, theta, rho, asexGen, rep)\n",
    "        psmcfilenameT = '{}/results_standard_assembly_t{}_rho{}_asex{}_rep{}_T'.format(datadir, theta, rho, asexGen, rep)\n",
    "        \n",
    "        index = 'asex{}_rep{}'.format(asexGen, rep)\n",
    "        results = read_psmc_results(psmcfilename)\n",
    "        results['asex'] = asexGenUnscaled\n",
    "        results['rep'] = rep\n",
    "        stdAssemRows[index] = results\n",
    "        \n",
    "        index = 'asex{}_rep{}_T'.format(asexGen, rep)\n",
    "        results = read_psmc_results(psmcfilenameT)\n",
    "        results['asex'] = asexGenUnscaled\n",
    "        results['rep'] = rep\n",
    "        stdAssemRows[index] = results\n",
    "\n",
    "# control runs with constant size and no history of asex\n",
    "for rep in xrange(1,numReps+1):\n",
    "    psmcfilename = '{}/results_standard_assembly_t{}_rho{}_no_asex_rep{}'.format(datadir, theta, rho, rep)\n",
    "    psmcfilenameT = '{}/results_standard_assembly_t{}_rho{}_no_asex_rep{}_T'.format(datadir, theta, rho, rep)\n",
    "    \n",
    "    index = 'no_asex_rep{}'.format(rep)\n",
    "    results = read_psmc_results(psmcfilename)\n",
    "    results['asex'] = None\n",
    "    results['rep'] = rep\n",
    "    stdAssemRows[index] = results\n",
    "    \n",
    "    results = read_psmc_results(psmcfilenameT)\n",
    "    results['asex'] = None\n",
    "    results['rep'] = rep\n",
    "    stdAssemRows[index] = results\n",
    "\n",
    "stdAssemDat = pd.DataFrame.from_dict(stdAssemRows, orient = 'index')\n",
    "maxi = int(stdAssemDat['maxi'].max())\n",
    "newCols = ['asex', 'rep', 'theta', 'rho', 'divtime']\n",
    "newCols.extend(['lambda'+str(i) for i in xrange(0,maxi+1)])\n",
    "newCols.extend(['t'+str(i) for i in xrange(0,maxi+1)])\n",
    "newCols.append('maxi')\n",
    "stdAssemDat = stdAssemDat[newCols]\n",
    "\n",
    "# rescaling input\n",
    "\n",
    "binSize = 100  # we binned the bp's by 100 in the input to PSMC\n",
    "\n",
    "stdAssemDat['lambda0'] = stdAssemDat['theta'] / (4.0*muStd) / binSize\n",
    "\n",
    "stdAssemDat['divtime'] = 2.0*stdAssemDat['lambda0'] * stdAssemDat['divtime']\n",
    "\n",
    "for i in xrange(1, maxi+1):\n",
    "    colLam = 'lambda'+str(i)\n",
    "    colT = 't'+str(i)\n",
    "    stdAssemDat[colLam] = stdAssemDat['lambda0'] * stdAssemDat[colLam]\n",
    "    stdAssemDat[colT] = 2.0*stdAssemDat['lambda0'] * stdAssemDat[colT]"
   ]
  },
  {
   "cell_type": "code",
   "execution_count": 103,
   "metadata": {
    "collapsed": false
   },
   "outputs": [
    {
     "data": {
      "text/html": [
       "<div>\n",
       "<table border=\"1\" class=\"dataframe\">\n",
       "  <thead>\n",
       "    <tr style=\"text-align: right;\">\n",
       "      <th></th>\n",
       "      <th>asex</th>\n",
       "      <th>rep</th>\n",
       "      <th>theta</th>\n",
       "      <th>rho</th>\n",
       "      <th>divtime</th>\n",
       "      <th>lambda0</th>\n",
       "      <th>lambda1</th>\n",
       "      <th>lambda2</th>\n",
       "      <th>lambda3</th>\n",
       "      <th>lambda4</th>\n",
       "      <th>...</th>\n",
       "      <th>t14</th>\n",
       "      <th>t15</th>\n",
       "      <th>t16</th>\n",
       "      <th>t17</th>\n",
       "      <th>t18</th>\n",
       "      <th>t19</th>\n",
       "      <th>t20</th>\n",
       "      <th>t21</th>\n",
       "      <th>t22</th>\n",
       "      <th>maxi</th>\n",
       "    </tr>\n",
       "  </thead>\n",
       "  <tbody>\n",
       "    <tr>\n",
       "      <th>asex0.0357142857143_rep1</th>\n",
       "      <td>2000</td>\n",
       "      <td>1</td>\n",
       "      <td>0.102476</td>\n",
       "      <td>0.008646</td>\n",
       "      <td>NaN</td>\n",
       "      <td>10499.590164</td>\n",
       "      <td>2036877.852968</td>\n",
       "      <td>2036877.852968</td>\n",
       "      <td>2036877.852968</td>\n",
       "      <td>1671.986236</td>\n",
       "      <td>...</td>\n",
       "      <td>38037.936245</td>\n",
       "      <td>47454.136698</td>\n",
       "      <td>59079.366924</td>\n",
       "      <td>73431.823697</td>\n",
       "      <td>91151.331042</td>\n",
       "      <td>113027.773127</td>\n",
       "      <td>140036.351887</td>\n",
       "      <td>173381.055325</td>\n",
       "      <td>214548.310422</td>\n",
       "      <td>22</td>\n",
       "    </tr>\n",
       "    <tr>\n",
       "      <th>asex0.0357142857143_rep1_T</th>\n",
       "      <td>2000</td>\n",
       "      <td>1</td>\n",
       "      <td>0.135027</td>\n",
       "      <td>0.018196</td>\n",
       "      <td>3070.868149</td>\n",
       "      <td>13834.733607</td>\n",
       "      <td>1350.173157</td>\n",
       "      <td>1350.173157</td>\n",
       "      <td>1350.173157</td>\n",
       "      <td>14125.553542</td>\n",
       "      <td>...</td>\n",
       "      <td>41599.881837</td>\n",
       "      <td>51325.146173</td>\n",
       "      <td>63182.232280</td>\n",
       "      <td>77638.394451</td>\n",
       "      <td>95263.374685</td>\n",
       "      <td>116751.787287</td>\n",
       "      <td>142950.511640</td>\n",
       "      <td>174892.006243</td>\n",
       "      <td>213835.148847</td>\n",
       "      <td>22</td>\n",
       "    </tr>\n",
       "    <tr>\n",
       "      <th>asex0.0357142857143_rep2</th>\n",
       "      <td>2000</td>\n",
       "      <td>2</td>\n",
       "      <td>0.090609</td>\n",
       "      <td>0.007615</td>\n",
       "      <td>NaN</td>\n",
       "      <td>9283.709016</td>\n",
       "      <td>274609.002662</td>\n",
       "      <td>274609.002662</td>\n",
       "      <td>274609.002662</td>\n",
       "      <td>1837.803037</td>\n",
       "      <td>...</td>\n",
       "      <td>39937.680655</td>\n",
       "      <td>50348.729024</td>\n",
       "      <td>63353.181508</td>\n",
       "      <td>79597.054281</td>\n",
       "      <td>99887.287330</td>\n",
       "      <td>125231.850080</td>\n",
       "      <td>156889.762011</td>\n",
       "      <td>196433.720567</td>\n",
       "      <td>245828.121439</td>\n",
       "      <td>22</td>\n",
       "    </tr>\n",
       "    <tr>\n",
       "      <th>asex0.0357142857143_rep2_T</th>\n",
       "      <td>2000</td>\n",
       "      <td>2</td>\n",
       "      <td>0.130952</td>\n",
       "      <td>0.017106</td>\n",
       "      <td>2930.802364</td>\n",
       "      <td>13417.213115</td>\n",
       "      <td>1526.436084</td>\n",
       "      <td>1526.436084</td>\n",
       "      <td>1526.436084</td>\n",
       "      <td>16968.024897</td>\n",
       "      <td>...</td>\n",
       "      <td>43757.449793</td>\n",
       "      <td>54246.919669</td>\n",
       "      <td>67105.627870</td>\n",
       "      <td>82868.706526</td>\n",
       "      <td>102192.150020</td>\n",
       "      <td>125880.105602</td>\n",
       "      <td>154918.389589</td>\n",
       "      <td>190515.490366</td>\n",
       "      <td>234152.802433</td>\n",
       "      <td>22</td>\n",
       "    </tr>\n",
       "    <tr>\n",
       "      <th>asex0.0357142857143_rep3</th>\n",
       "      <td>2000</td>\n",
       "      <td>3</td>\n",
       "      <td>0.091544</td>\n",
       "      <td>0.007442</td>\n",
       "      <td>NaN</td>\n",
       "      <td>9379.508197</td>\n",
       "      <td>670668.161458</td>\n",
       "      <td>670668.161458</td>\n",
       "      <td>670668.161458</td>\n",
       "      <td>1749.025032</td>\n",
       "      <td>...</td>\n",
       "      <td>38305.798921</td>\n",
       "      <td>48137.530726</td>\n",
       "      <td>60374.918793</td>\n",
       "      <td>75606.583539</td>\n",
       "      <td>94565.158349</td>\n",
       "      <td>118162.556528</td>\n",
       "      <td>147533.811121</td>\n",
       "      <td>184091.701172</td>\n",
       "      <td>229594.640600</td>\n",
       "      <td>22</td>\n",
       "    </tr>\n",
       "  </tbody>\n",
       "</table>\n",
       "<p>5 rows × 52 columns</p>\n",
       "</div>"
      ],
      "text/plain": [
       "                            asex  rep     theta       rho      divtime  \\\n",
       "asex0.0357142857143_rep1    2000    1  0.102476  0.008646          NaN   \n",
       "asex0.0357142857143_rep1_T  2000    1  0.135027  0.018196  3070.868149   \n",
       "asex0.0357142857143_rep2    2000    2  0.090609  0.007615          NaN   \n",
       "asex0.0357142857143_rep2_T  2000    2  0.130952  0.017106  2930.802364   \n",
       "asex0.0357142857143_rep3    2000    3  0.091544  0.007442          NaN   \n",
       "\n",
       "                                 lambda0         lambda1         lambda2  \\\n",
       "asex0.0357142857143_rep1    10499.590164  2036877.852968  2036877.852968   \n",
       "asex0.0357142857143_rep1_T  13834.733607     1350.173157     1350.173157   \n",
       "asex0.0357142857143_rep2     9283.709016   274609.002662   274609.002662   \n",
       "asex0.0357142857143_rep2_T  13417.213115     1526.436084     1526.436084   \n",
       "asex0.0357142857143_rep3     9379.508197   670668.161458   670668.161458   \n",
       "\n",
       "                                   lambda3       lambda4  ...            t14  \\\n",
       "asex0.0357142857143_rep1    2036877.852968   1671.986236  ...   38037.936245   \n",
       "asex0.0357142857143_rep1_T     1350.173157  14125.553542  ...   41599.881837   \n",
       "asex0.0357142857143_rep2     274609.002662   1837.803037  ...   39937.680655   \n",
       "asex0.0357142857143_rep2_T     1526.436084  16968.024897  ...   43757.449793   \n",
       "asex0.0357142857143_rep3     670668.161458   1749.025032  ...   38305.798921   \n",
       "\n",
       "                                     t15           t16           t17  \\\n",
       "asex0.0357142857143_rep1    47454.136698  59079.366924  73431.823697   \n",
       "asex0.0357142857143_rep1_T  51325.146173  63182.232280  77638.394451   \n",
       "asex0.0357142857143_rep2    50348.729024  63353.181508  79597.054281   \n",
       "asex0.0357142857143_rep2_T  54246.919669  67105.627870  82868.706526   \n",
       "asex0.0357142857143_rep3    48137.530726  60374.918793  75606.583539   \n",
       "\n",
       "                                      t18            t19            t20  \\\n",
       "asex0.0357142857143_rep1     91151.331042  113027.773127  140036.351887   \n",
       "asex0.0357142857143_rep1_T   95263.374685  116751.787287  142950.511640   \n",
       "asex0.0357142857143_rep2     99887.287330  125231.850080  156889.762011   \n",
       "asex0.0357142857143_rep2_T  102192.150020  125880.105602  154918.389589   \n",
       "asex0.0357142857143_rep3     94565.158349  118162.556528  147533.811121   \n",
       "\n",
       "                                      t21            t22  maxi  \n",
       "asex0.0357142857143_rep1    173381.055325  214548.310422    22  \n",
       "asex0.0357142857143_rep1_T  174892.006243  213835.148847    22  \n",
       "asex0.0357142857143_rep2    196433.720567  245828.121439    22  \n",
       "asex0.0357142857143_rep2_T  190515.490366  234152.802433    22  \n",
       "asex0.0357142857143_rep3    184091.701172  229594.640600    22  \n",
       "\n",
       "[5 rows x 52 columns]"
      ]
     },
     "execution_count": 103,
     "metadata": {},
     "output_type": "execute_result"
    }
   ],
   "source": [
    "stdAssemDat.head()"
   ]
  },
  {
   "cell_type": "code",
   "execution_count": 104,
   "metadata": {
    "collapsed": false
   },
   "outputs": [
    {
     "data": {
      "image/png": "[encoded data removed]",
      "text/plain": [
       "<matplotlib.figure.Figure at 0x7f6e3c514210>"
      ]
     },
     "metadata": {},
     "output_type": "display_data"
    }
   ],
   "source": [
    "###### plot the standard-sim, assembly-specific simulations\n",
    "\n",
    "fig, axes = plt.subplots(nrows=2,ncols=len(asexGens), figsize = (26,10))\n",
    "for colIdx, asexGen in enumerate(asexGens):\n",
    "    # first row: no T\n",
    "    datp = stdAssemDat.loc[(stdAssemDat['asex'] == asexGen) & (np.isnan(stdAssemDat['divtime'])),:]\n",
    "    axis = axes[0, colIdx]\n",
    "    plot_psmc(axis, trueTs, trueNs, asexGen, color='gray', lw=5, ls='dashed')\n",
    "    for rowIdx in xrange(datp.shape[0]):\n",
    "        maxi = int(datp.ix[rowIdx,'maxi'])\n",
    "        ts = datp.ix[rowIdx,'t0':('t{}'.format(maxi))]\n",
    "        lambdas = datp.ix[rowIdx, 'lambda0':('lambda{}'.format(maxi))]\n",
    "        divtime = datp.ix[rowIdx, 'divtime']\n",
    "        if np.isnan(divtime):\n",
    "            divtime = None\n",
    "        plot_psmc(axis, ts, lambdas, divtime, maxt = 60000)\n",
    "        axis.set_title('asex transition @ {} generations, no T'.format(asexGen))\n",
    "        axis.set_xlabel('generations ago')\n",
    "        axis.set_ylabel('log10(N)')\n",
    "    # second row: T\n",
    "    datp = stdAssemDat.loc[(stdAssemDat['asex'] == asexGen) & (~np.isnan(stdAssemDat['divtime'])),:]\n",
    "    axis = axes[1, colIdx]\n",
    "    plot_psmc(axis, trueTs, trueNs, asexGen, color='gray', lw=5, ls='dashed')\n",
    "    for rowIdx in xrange(datp.shape[0]):\n",
    "        maxi = int(datp.ix[rowIdx,'maxi'])\n",
    "        ts = datp.ix[rowIdx,'t0':('t{}'.format(maxi))]\n",
    "        lambdas = datp.ix[rowIdx, 'lambda0':('lambda{}'.format(maxi))]\n",
    "        divtime = datp.ix[rowIdx, 'divtime']\n",
    "        if np.isnan(divtime):\n",
    "            divtime = None\n",
    "        plot_psmc(axis, ts, lambdas, divtime, maxt = 60000)\n",
    "        # add true divergence time\n",
    "        axis.set_title('asex transition @ {} generations, with T'.format(asexGen))\n",
    "        axis.set_xlabel('generations ago')\n",
    "        axis.set_ylabel('log10(N)')"
   ]
  },
  {
   "cell_type": "code",
   "execution_count": 105,
   "metadata": {
    "collapsed": false
   },
   "outputs": [],
   "source": [
    "# now going to take the same data, use the whole genome to infer the history, make sure it's correct\n",
    "\n",
    "datadir = \"stdassemblysimdata\"\n",
    "\n",
    "stdAsexGensRescaled = asexGens/(2.0*N0)\n",
    "\n",
    "stdMsCmdsAssemblyCheck = open('sim_ms_commands_standard_assembly_check.txt', 'w')\n",
    "for asexGen in stdAsexGensRescaled:\n",
    "    for rep in xrange(1, numReps+1):\n",
    "        filename = \"{}/standard_assembly_sim_data_t{}_rho{}_asex{}_rep{}\".format(\n",
    "            datadir, theta, rho, asexGen, rep)\n",
    "        #msCmd = stdAssemblyMsCmd + ' | ./add_asex.py - {asexGen} > {filename}'.format(\n",
    "        #    asexGen=asexGen, filename = filename)\n",
    "        psmcfilename = filename.replace('_assembly_', '_assembly_check_') + '.psmc'\n",
    "        ms2psmcfaCmd = './ms2psmcfa.py {msfilename}  > {psmcfilename}'.format(\n",
    "            msfilename = filename, psmcfilename = psmcfilename)\n",
    "        resultsfilename = '{}/results_standard_assembly_check_t{}_rho{}_asex{}_rep{}'.format(\n",
    "            datadir, theta, rho, asexGen, rep)\n",
    "        psmcCmd = 'psmc {} > {}'.format(psmcfilename, resultsfilename)\n",
    "        resultsfilenameT = '{}/results_standard_assembly_check_t{}_rho{}_asex{}_rep{}_T'.format(datadir, theta, rho, asexGen, rep)\n",
    "        psmcCmdT = 'psmc {} -T 0.5 > {}'.format(psmcfilename, resultsfilenameT)\n",
    "        wholeCmd = '{} && {} && {}'.format(ms2psmcfaCmd, psmcCmd, psmcCmdT)\n",
    "        stdMsCmdsAssemblyCheck.write(wholeCmd+'\\n')\n",
    "\n",
    "# control runs with constant size and no history of asex\n",
    "for rep in xrange(1,numReps+1):\n",
    "    filename = \"{}/standard_assembly_sim_data_t{}_rho{}_no_asex_rep{}\".format(datadir, theta, rho, rep)\n",
    "    psmcfilename = filename.replace('_assembly_','_assembly_check_')+'.psmc'\n",
    "    ms2psmcfaCmd = './ms2psmcfa.py {msfilename} > {psmcfilename}'.format(\n",
    "        msfilename = filename, psmcfilename = psmcfilename)\n",
    "    resultsfilename = '{}/results_standard_assembly_check_t{}_rho{}_no_asex_rep{}'.format(datadir, theta, rho, rep)\n",
    "    psmcCmd = 'psmc {} > {}'.format(psmcfilename, resultsfilename)\n",
    "    resultsfilenameT = '{}/results_standard_assembly_check_t{}_rho{}_no_asex_rep{}_T'.format(datadir, theta, rho, rep)\n",
    "    psmcCmdT = 'psmc {} -T 0.5 > {}'.format(psmcfilename, resultsfilenameT)\n",
    "    wholeCmd = '{} && {} && {}'.format(ms2psmcfaCmd, psmcCmd, psmcCmdT)\n",
    "    stdMsCmdsAssemblyCheck.write(wholeCmd+'\\n')\n",
    "stdMsCmdsAssemblyCheck.close()"
   ]
  },
  {
   "cell_type": "code",
   "execution_count": 106,
   "metadata": {
    "collapsed": false
   },
   "outputs": [],
   "source": [
    "%%bash\n",
    "#head -n 1 sim_ms_commands_standard_assembly_check.txt\n",
    "#scp sim_ms_commands_standard_assembly_check.txt peter@ammodramus:/tmp/"
   ]
  },
  {
   "cell_type": "code",
   "execution_count": 107,
   "metadata": {
    "collapsed": false
   },
   "outputs": [],
   "source": [
    "# now going to take the same data, use the whole genome to infer the history, make sure it's correct\n",
    "\n",
    "datadir = \"stdassemblysimdata\"\n",
    "\n",
    "stdAssemCheckRows = {}\n",
    "stdAsexGensRescaled = asexGens/(2.0*N0)\n",
    "\n",
    "for asexGen, asexGenUnscaled in zip(stdAsexGensRescaled, asexGens):\n",
    "    for rep in xrange(1, numReps+1):\n",
    "        resultsfilename = '{}/results_standard_assembly_check_t{}_rho{}_asex{}_rep{}'.format(\n",
    "            datadir, theta, rho, asexGen, rep)\n",
    "        index = 'asex{}_rep{}'.format(asexGen, rep)\n",
    "        results = read_psmc_results(resultsfilename)\n",
    "        results['asex'] = asexGenUnscaled\n",
    "        results['rep'] = rep\n",
    "        stdAssemCheckRows[index] = results\n",
    "            \n",
    "        resultsfilenameT = '{}/results_standard_assembly_check_t{}_rho{}_asex{}_rep{}_T'.format(datadir, theta, rho, asexGen, rep)\n",
    "        index = 'asex{}_rep{}_T'.format(asexGen, rep)\n",
    "        results = read_psmc_results(resultsfilenameT)\n",
    "        results['asex'] = asexGenUnscaled\n",
    "        results['rep'] = rep\n",
    "        stdAssemCheckRows[index] = results\n",
    "\n",
    "# control runs with constant size and no history of asex\n",
    "for rep in xrange(1,numReps+1):\n",
    "    resultsfilename = '{}/results_standard_assembly_check_t{}_rho{}_no_asex_rep{}'.format(datadir, theta, rho, rep)\n",
    "    resultsfilenameT = '{}/results_standard_assembly_check_t{}_rho{}_no_asex_rep{}_T'.format(datadir, theta, rho, rep)\n",
    "            \n",
    "    index = 'no_asex_rep{}'.format(rep)\n",
    "    results = read_psmc_results(resultsfilename)\n",
    "    results['asex'] = None\n",
    "    results['rep'] = rep\n",
    "    stdAssemCheckRows[index] = results\n",
    "    \n",
    "    results = read_psmc_results(resultsfilenameT)\n",
    "    results['asex'] = None\n",
    "    results['rep'] = rep\n",
    "    stdAssemCheckRows[index] = results\n",
    "            \n",
    "# generate commands for std sim with assembly-specific data\n",
    "\n",
    "stdAssemCheckDat = pd.DataFrame.from_dict(stdAssemCheckRows, orient = 'index')\n",
    "maxi = int(stdAssemCheckDat['maxi'].max())\n",
    "newCols = ['asex', 'rep', 'theta', 'rho', 'divtime']\n",
    "newCols.extend(['lambda'+str(i) for i in xrange(0,maxi+1)])\n",
    "newCols.extend(['t'+str(i) for i in xrange(0,maxi+1)])\n",
    "newCols.append('maxi')\n",
    "stdAssemCheckDat = stdAssemCheckDat[newCols]\n",
    "\n",
    "# rescaling input\n",
    "\n",
    "binSize = 100  # we binned the bp's by 100 in the input to PSMC\n",
    "\n",
    "stdAssemCheckDat['lambda0'] = stdAssemCheckDat['theta'] / (4.0*muStd) / binSize\n",
    "\n",
    "stdAssemCheckDat['divtime'] = 2.0*stdAssemCheckDat['lambda0'] * stdAssemCheckDat['divtime']\n",
    "\n",
    "for i in xrange(1, maxi+1):\n",
    "    colLam = 'lambda'+str(i)\n",
    "    colT = 't'+str(i)\n",
    "    stdAssemCheckDat[colLam] = stdAssemCheckDat['lambda0'] * stdAssemCheckDat[colLam]\n",
    "    stdAssemCheckDat[colT] = 2.0*stdAssemCheckDat['lambda0'] * stdAssemCheckDat[colT]"
   ]
  },
  {
   "cell_type": "code",
   "execution_count": 112,
   "metadata": {
    "collapsed": false
   },
   "outputs": [
    {
     "data": {
      "image/png": "[encoded data removed]",
      "text/plain": [
       "<matplotlib.figure.Figure at 0x7f6e3d04df50>"
      ]
     },
     "metadata": {},
     "output_type": "display_data"
    }
   ],
   "source": [
    "###### plot the standard-sim, assembly-specific simulations\n",
    "\n",
    "fig, axes = plt.subplots(nrows=2,ncols=len(asexGens), figsize = (26,10))\n",
    "for colIdx, asexGen in enumerate(asexGens):\n",
    "    # first row: no T\n",
    "    datp = stdAssemCheckDat.loc[(stdAssemCheckDat['asex'] == asexGen) & (np.isnan(stdAssemCheckDat['divtime'])),:]\n",
    "    axis = axes[0, colIdx]\n",
    "    plot_psmc(axis, trueTs, trueNs, asexGen, color='gray', lw=5, ls='dashed')\n",
    "    for rowIdx in xrange(datp.shape[0]):\n",
    "        maxi = int(datp.ix[rowIdx,'maxi'])\n",
    "        ts = datp.ix[rowIdx,'t0':('t{}'.format(maxi))]\n",
    "        lambdas = datp.ix[rowIdx, 'lambda0':('lambda{}'.format(maxi))]\n",
    "        divtime = datp.ix[rowIdx, 'divtime']\n",
    "        if np.isnan(divtime):\n",
    "            divtime = None\n",
    "        plot_psmc(axis, ts, lambdas, divtime, maxt = 60000)\n",
    "        axis.set_title('asex transition @ {} generations, no T'.format(asexGen))\n",
    "        axis.set_xlabel('generations ago')\n",
    "        axis.set_ylabel('log10(N)')\n",
    "    # second row: T\n",
    "    datp = stdAssemCheckDat.loc[(stdAssemCheckDat['asex'] == asexGen) & (~np.isnan(stdAssemCheckDat['divtime'])),:]\n",
    "    axis = axes[1, colIdx]\n",
    "    plot_psmc(axis, trueTs, trueNs, asexGen, color='gray', lw=5, ls='dashed')\n",
    "    for rowIdx in xrange(datp.shape[0]):\n",
    "        maxi = int(datp.ix[rowIdx,'maxi'])\n",
    "        ts = datp.ix[rowIdx,'t0':('t{}'.format(maxi))]\n",
    "        lambdas = datp.ix[rowIdx, 'lambda0':('lambda{}'.format(maxi))]\n",
    "        divtime = datp.ix[rowIdx, 'divtime']\n",
    "        if np.isnan(divtime):\n",
    "            divtime = None\n",
    "        plot_psmc(axis, ts, lambdas, divtime, maxt = 60000)\n",
    "        # add true divergence time\n",
    "        axis.set_title('asex transition @ {} generations, with T'.format(asexGen))\n",
    "        axis.set_xlabel('generations ago')\n",
    "        axis.set_ylabel('log10(N)')"
   ]
  },
  {
   "cell_type": "markdown",
   "metadata": {},
   "source": [
    "Fixed it! Was using the wrong $\\mu$ for scaling."
   ]
  },
  {
   "cell_type": "markdown",
   "metadata": {},
   "source": [
    "# Triploid asexuals"
   ]
  },
  {
   "cell_type": "markdown",
   "metadata": {},
   "source": [
    "## utility functions"
   ]
  },
  {
   "cell_type": "code",
   "execution_count": 2,
   "metadata": {
    "collapsed": false
   },
   "outputs": [],
   "source": [
    "def get_scaled_ts(result):\n",
    "    i = 0\n",
    "    ts = []\n",
    "    while True:\n",
    "        tstr = 't{}'.format(i)\n",
    "        if tstr in result:\n",
    "            ts.append(result[tstr])\n",
    "        else:\n",
    "            break\n",
    "        i += 1\n",
    "    return np.array(ts)\n",
    "\n",
    "def get_lambdas(result):\n",
    "    i = 0\n",
    "    lambdas = []\n",
    "    while True:\n",
    "        tstr = 'lambda{}'.format(i)\n",
    "        if tstr in result:\n",
    "            lambdas.append(result[tstr])\n",
    "        else:\n",
    "            break\n",
    "        i += 1\n",
    "    return np.array(lambdas)\n",
    "\n",
    "def get_N0(result, mu, blockLen):\n",
    "    theta = result['theta']\n",
    "    N0 = theta / (4.0*mu*blockLen)\n",
    "    return N0\n",
    "\n",
    "def get_Ns(result, mu, blockLen):\n",
    "    N0 = get_N0(result, mu, blockLen)\n",
    "    lambdas = get_lambdas(result)\n",
    "    Ns = N0*lambdas\n",
    "    return Ns\n",
    "\n",
    "def get_unscaled_divtime(result, mu, blockLen):\n",
    "    N0 = get_N0(result, mu, blockLen)\n",
    "    divtime = result['divtime']\n",
    "    if divtime is None:\n",
    "        return None\n",
    "    unscaledDivtime = divtime * (2.0*N0)\n",
    "    return unscaledDivtime\n",
    "    \n",
    "def get_unscaled_ts(result, trueN0):\n",
    "    scTs = get_scaled_ts(result)\n",
    "    unscaledTs = 2.0*trueN0*scTs\n",
    "    return unscaledTs"
   ]
  },
  {
   "cell_type": "code",
   "execution_count": 3,
   "metadata": {
    "collapsed": true
   },
   "outputs": [],
   "source": [
    "def read_tsmc_results(filename):\n",
    "    results = {}\n",
    "    results['divtime'] = None  # divtime None by default...\n",
    "    fin = open(filename,'r')\n",
    "    for line in fin:\n",
    "        line = line.strip()\n",
    "        spline = line.split('\\t')\n",
    "        if line[:2] == 'LR':\n",
    "            results['loglike'] = float(spline[1])\n",
    "            continue\n",
    "        if line[:2] == 'PA':\n",
    "            paramstr = spline[1]\n",
    "            if paramstr == 'rho':\n",
    "                results['rho'] = float(spline[2])\n",
    "            if paramstr == 'theta':\n",
    "                results['theta'] = float(spline[2])\n",
    "            if paramstr[:3] == 'lam':\n",
    "                whichLam = int(paramstr[3:])\n",
    "                results['lambda{}'.format(whichLam)] = float(spline[3])\n",
    "                results['t{}'.format(whichLam)] = float(spline[2])\n",
    "            if paramstr[:2] == 'Td':\n",
    "                results['divtime'] = float(spline[2])\n",
    "    return results"
   ]
  },
  {
   "cell_type": "code",
   "execution_count": 4,
   "metadata": {
    "collapsed": true
   },
   "outputs": [],
   "source": [
    "def plot_psmc(axis, ts, lambdas, divtime = None, maxt = None, **plotkwargs):\n",
    "    newTs = np.repeat(np.array(ts), 2)[1:]\n",
    "    newLambdas = np.repeat(np.array(lambdas), 2)[:-1]\n",
    "    if divtime is None:\n",
    "        axis.plot(newTs, np.log10(newLambdas), '-', **plotkwargs)\n",
    "    else:\n",
    "        baseline, = axis.plot(newTs+divtime, np.log10(newLambdas), '-', **plotkwargs)\n",
    "        if 'color' not in plotkwargs:\n",
    "            axis.axvline(x = divtime, color = baseline.get_color(), **plotkwargs)\n",
    "        else:\n",
    "            axis.axvline(x = divtime, **plotkwargs)\n",
    "    if maxt is not None:\n",
    "        axis.set_xlim((0, maxt))\n",
    "    return"
   ]
  },
  {
   "cell_type": "markdown",
   "metadata": {},
   "source": [
    "## constant population size with asex"
   ]
  },
  {
   "cell_type": "code",
   "execution_count": 5,
   "metadata": {
    "collapsed": false
   },
   "outputs": [],
   "source": [
    "mu = 1.5e-8  # mutation rate\n",
    "r = 1.0e-8  # recombination rate\n",
    "N = 10000  # diploid population size in the sexual ancestor\n",
    "chromLength = int(1e7)  # 10 Mbp per chromosome\n",
    "#numChromosomes = 100  # simulate 100 chromosomes per replicate\n",
    "numChromosomes = 10  # simulate 10 chromosomes per replicate\n",
    "\n",
    "# scaled parameters for entire chromosomes\n",
    "rho = 4*N*r*chromLength\n",
    "theta = 4*N*mu*chromLength\n",
    "\n",
    "# the different transition times to test\n",
    "asexGens = np.array([2000, 5000, 10000, 20000, 40000])\n",
    "asexGensRescaled = asexGens / (2.0*N)  # rescaled by 2*N"
   ]
  },
  {
   "cell_type": "code",
   "execution_count": 6,
   "metadata": {
    "collapsed": true
   },
   "outputs": [],
   "source": [
    "msCmd = \"mspms 3 {numChroms} -r {rho} {chromLen} -t {theta} -p 10\".format(\n",
    "    numChroms = numChromosomes,\n",
    "    chromLen = chromLength,\n",
    "    rho = rho,\n",
    "    theta = theta)"
   ]
  },
  {
   "cell_type": "code",
   "execution_count": 7,
   "metadata": {
    "collapsed": false
   },
   "outputs": [
    {
     "data": {
      "text/plain": [
       "'mspms 3 10 -r 4000.0 10000000 -t 6000.0 -p 10'"
      ]
     },
     "execution_count": 7,
     "metadata": {},
     "output_type": "execute_result"
    }
   ],
   "source": [
    "msCmd"
   ]
  },
  {
   "cell_type": "code",
   "execution_count": 8,
   "metadata": {
    "collapsed": false
   },
   "outputs": [
    {
     "data": {
      "text/plain": [
       "0.04"
      ]
     },
     "execution_count": 8,
     "metadata": {},
     "output_type": "execute_result"
    }
   ],
   "source": [
    "float(rho)/chromLength*100"
   ]
  },
  {
   "cell_type": "code",
   "execution_count": 9,
   "metadata": {
    "collapsed": false
   },
   "outputs": [
    {
     "data": {
      "text/plain": [
       "0.06"
      ]
     },
     "execution_count": 9,
     "metadata": {},
     "output_type": "execute_result"
    }
   ],
   "source": [
    "float(theta)/chromLength*100"
   ]
  },
  {
   "cell_type": "code",
   "execution_count": 10,
   "metadata": {
    "collapsed": true
   },
   "outputs": [],
   "source": [
    "# with 0.5 asex gens\n",
    "\n",
    "divtimes = [0.25, 0.5, 1.0]\n",
    "\n",
    "msCmd = \"mspms 3 {numChroms} -r {rho} {chromLen} -t {theta} -p 10\".format(\n",
    "    numChroms = numChromosomes,\n",
    "    chromLen = chromLength,\n",
    "    rho = rho,\n",
    "    theta = theta)\n",
    "\n",
    "addAsexCmds = [\"./add_asex.py --triploid - {}\".format(divtime) for divtime in divtimes]\n",
    "\n",
    "filenames = ['triploid_const_N_asex_{asex}.txt'.format(asex = divtime) for divtime in divtimes]\n",
    "resultsfilenames = ['triploid_const_N_asex_{asex}.results'.format(asex = divtime) for divtime in divtimes]"
   ]
  },
  {
   "cell_type": "code",
   "execution_count": 11,
   "metadata": {
    "collapsed": false
   },
   "outputs": [],
   "source": [
    "ms2tsmcfaCmd = \"./ms2psmcfa.py\""
   ]
  },
  {
   "cell_type": "code",
   "execution_count": 12,
   "metadata": {
    "collapsed": false
   },
   "outputs": [],
   "source": [
    "fullCmds = [\"{} | {} | {} > {}\".format(msCmd, asexCmd, ms2tsmcfaCmd, filename) for asexCmd, filename in zip(addAsexCmds, filenames)]"
   ]
  },
  {
   "cell_type": "code",
   "execution_count": 13,
   "metadata": {
    "collapsed": false
   },
   "outputs": [
    {
     "data": {
      "text/plain": [
       "['mspms 3 10 -r 4000.0 10000000 -t 6000.0 -p 10 | ./add_asex.py --triploid - 0.25 | ./ms2psmcfa.py > triploid_const_N_asex_0.25.txt',\n",
       " 'mspms 3 10 -r 4000.0 10000000 -t 6000.0 -p 10 | ./add_asex.py --triploid - 0.5 | ./ms2psmcfa.py > triploid_const_N_asex_0.5.txt',\n",
       " 'mspms 3 10 -r 4000.0 10000000 -t 6000.0 -p 10 | ./add_asex.py --triploid - 1.0 | ./ms2psmcfa.py > triploid_const_N_asex_1.0.txt']"
      ]
     },
     "execution_count": 13,
     "metadata": {},
     "output_type": "execute_result"
    }
   ],
   "source": [
    "fullCmds"
   ]
  },
  {
   "cell_type": "code",
   "execution_count": 14,
   "metadata": {
    "collapsed": true
   },
   "outputs": [],
   "source": [
    "with open('tsmc/triploid_const_asex_data_generation_cmds', 'w') as generationFout:\n",
    "    for fullCmd in fullCmds:\n",
    "        generationFout.write(fullCmd + '\\n')"
   ]
  },
  {
   "cell_type": "code",
   "execution_count": 15,
   "metadata": {
    "collapsed": true
   },
   "outputs": [],
   "source": [
    "pattern = \"4*4\"\n",
    "iterations = 50"
   ]
  },
  {
   "cell_type": "code",
   "execution_count": 16,
   "metadata": {
    "collapsed": false
   },
   "outputs": [],
   "source": [
    "analysisCmds = ['stdbuf -o0 -e0 -i0 ./tsmc -p {pattern}  -i {iterations} {filename} > {resultsfilename}'.format(\n",
    "    pattern = pattern,\n",
    "    iterations = iterations,\n",
    "    filename = filename,\n",
    "    resultsfilename = resultsfilename) for filename, resultsfilename in zip(filenames, resultsfilenames)]\n",
    "\n",
    "analysisCmds\n",
    "\n",
    "with open('tsmc/triploid_const_asex_analysis_cmds', 'w') as analysisFout:\n",
    "    for analysisCmd in analysisCmds:\n",
    "        analysisFout.write(analysisCmd + '\\n')"
   ]
  },
  {
   "cell_type": "code",
   "execution_count": 17,
   "metadata": {
    "collapsed": true
   },
   "outputs": [],
   "source": [
    "mu = 1.5e-8  # mutation rate\n",
    "r = 1.0e-8  # recombination rate\n",
    "N = 10000  # diploid population size in the sexual ancestor\n",
    "chromLength = int(1e7)  # 10 Mbp per chromosome\n",
    "#numChromosomes = 100  # simulate 100 chromosomes per replicate\n",
    "numChromosomes = 10  # simulate 10 chromosomes per replicate\n",
    "\n",
    "trueTs = np.array([0,10000000])\n",
    "trueNs = np.array([10000,10000])"
   ]
  },
  {
   "cell_type": "code",
   "execution_count": 18,
   "metadata": {
    "collapsed": false
   },
   "outputs": [],
   "source": [
    "results = {}\n",
    "for divtime, resultsfilename in zip(divtimes, resultsfilenames):\n",
    "    results[divtime] = read_tsmc_results(resultsfilename)\n",
    "    results[divtime]['truedivtime'] = divtime"
   ]
  },
  {
   "cell_type": "code",
   "execution_count": 19,
   "metadata": {
    "collapsed": true
   },
   "outputs": [],
   "source": [
    "trueTs = np.array([0,1000000])\n",
    "trueNs = np.array([1e4,1e4])"
   ]
  },
  {
   "cell_type": "code",
   "execution_count": 20,
   "metadata": {
    "collapsed": false
   },
   "outputs": [
    {
     "data": {
      "image/png": "[encoded data removed]",
      "text/plain": [
       "<matplotlib.figure.Figure at 0x7f2178c12650>"
      ]
     },
     "metadata": {},
     "output_type": "display_data"
    }
   ],
   "source": [
    "fig, axes = plt.subplots(nrows=1,ncols=len(divtimes), figsize = (26,5))\n",
    "for colIdx, divtime in enumerate(divtimes):\n",
    "    axis = axes[colIdx]\n",
    "    result = results[divtime]\n",
    "    ts = get_unscaled_ts(result, N)\n",
    "    Ns = get_Ns(result, mu, 100)\n",
    "    divtime *= 2*N\n",
    "    plot_psmc(axis, trueTs, trueNs, divtime, color='gray', lw=5, ls='dashed')\n",
    "    estimatedDivtime = get_unscaled_divtime(result, mu, 100)\n",
    "    axis.set_title('asex transition @ {} generations'.format(divtime))\n",
    "    axis.set_xlabel('generations ago')\n",
    "    axis.set_ylabel('log10(N)')\n",
    "    axis.set_ylim((3.75, 4.25))\n",
    "    axis.set_xlim((0,max(ts)+divtime))\n",
    "    plot_psmc(axis, ts, Ns, divtime = estimatedDivtime)"
   ]
  },
  {
   "cell_type": "markdown",
   "metadata": {},
   "source": [
    "## PSMC 'standard' demographic history with triploid inference"
   ]
  },
  {
   "cell_type": "markdown",
   "metadata": {},
   "source": [
    "The ms command to generate their \"standard simulation,\" from the paper:\n",
    "\n",
    "    ms 2 100 -t 81960 -r 13560 30000000 -eN 0.01 0.05 -eN 0.0375 0.5 -eN 1.25 1\n",
    "\n",
    "This sets $N_0 = 28000$, $\\theta = 4N_0\\mu = 81960$,\n",
    "thus $\\mu = 2.44 \\times 10^{-8}$, $\\rho = 4N_0r = 13560$, thus\n",
    "$r = 4.04 \\times 10^{-9}$.\n",
    "\n",
    "Changes in population size:\n",
    "\n",
    " - at 1120 generations, $N_0 \\to N_1 = 1400$\n",
    " - at 4200 generations, $N_1 \\to N_2 = 14000$\n",
    " - at 140000 generations, $N_2 \\to N_3 = 28000$\n",
    "\n",
    "To better reflect our genome (and decrease computation time), I will do simulations of 120Mb instead of 3000Mb:\n",
    "\n",
    "\tms 3 40 -t 8196 -r 1356 3000000 -eN 0.01 0.05 -eN 0.0375 0.5 -eN 1.25 1"
   ]
  },
  {
   "cell_type": "markdown",
   "metadata": {},
   "source": [
    "\\begin{align}\n",
    "\\theta &= 4N_0\\mu L \\\\\n",
    "       &= 4\\cdot 28000 \\cdot 2.44\\cdot 10^{-8} \\cdot 3000000\\\\\n",
    "       &\\approx 8196\n",
    "\\end{align}"
   ]
  },
  {
   "cell_type": "code",
   "execution_count": 21,
   "metadata": {
    "collapsed": false
   },
   "outputs": [
    {
     "data": {
      "text/plain": [
       "8198.4"
      ]
     },
     "execution_count": 21,
     "metadata": {},
     "output_type": "execute_result"
    }
   ],
   "source": [
    "\n",
    "4*28000*2.44e-8*3000000"
   ]
  },
  {
   "cell_type": "code",
   "execution_count": 32,
   "metadata": {
    "collapsed": true
   },
   "outputs": [],
   "source": [
    "trueTs = np.array([0,1120,4200,140000])\n",
    "trueNs = np.array([28000,1400,14000,28000])"
   ]
  },
  {
   "cell_type": "code",
   "execution_count": 22,
   "metadata": {
    "collapsed": true
   },
   "outputs": [],
   "source": [
    "mu = 2.44e-8\n",
    "r = 4.04e-9\n",
    "trueN0 = 28000"
   ]
  },
  {
   "cell_type": "code",
   "execution_count": 23,
   "metadata": {
    "collapsed": false
   },
   "outputs": [],
   "source": [
    "divtimes = [0.25, 0.5, 1.0]\n",
    "\n",
    "msStdCmdTriploid = 'mspms 3 40 -t 8196 -r 1356 3000000 -eN 0.01 0.05 -eN 0.0375 0.5 -eN 1.25 1 -p 12'\n",
    "\n",
    "addAsexCmds = [\"./add_asex.py --triploid - {}\".format(divtime) for divtime in divtimes]\n",
    "\n",
    "filenames = ['triploid_std_demo_asex_{asex}.txt'.format(asex = divtime) for divtime in divtimes]\n",
    "resultsfilenames = ['triploid_std_demo_asex_{asex}.results'.format(asex = divtime) for divtime in divtimes]"
   ]
  },
  {
   "cell_type": "code",
   "execution_count": 24,
   "metadata": {
    "collapsed": false
   },
   "outputs": [],
   "source": [
    "fullCmds = [\"{} | {} | {} > {}\".format(msStdCmdTriploid, asexCmd, ms2tsmcfaCmd, filename) for asexCmd, filename in zip(addAsexCmds, filenames)]"
   ]
  },
  {
   "cell_type": "code",
   "execution_count": 25,
   "metadata": {
    "collapsed": false
   },
   "outputs": [],
   "source": [
    "with open('triploid_std_generation_cmds', 'w') as fout:\n",
    "    for fullCmd in fullCmds:\n",
    "        fout.write(fullCmd + '\\n')"
   ]
  },
  {
   "cell_type": "code",
   "execution_count": 26,
   "metadata": {
    "collapsed": true
   },
   "outputs": [],
   "source": [
    "pattern = '5*4'"
   ]
  },
  {
   "cell_type": "code",
   "execution_count": 27,
   "metadata": {
    "collapsed": false
   },
   "outputs": [],
   "source": [
    "analysisCmds = ['stdbuf -o0 -e0 -i0 tsmc/tsmc -p {pattern} -i {iterations} {filename} > {resultsfilename}'.format(\n",
    "    pattern = pattern,\n",
    "    iterations = iterations,\n",
    "    filename = filename,\n",
    "    resultsfilename = resultsfilename) for filename, resultsfilename in zip(filenames, resultsfilenames)]"
   ]
  },
  {
   "cell_type": "code",
   "execution_count": 28,
   "metadata": {
    "collapsed": true
   },
   "outputs": [],
   "source": [
    "with open('triploid_std_analysis_cmds', 'w') as fout:\n",
    "    for analysisCmd in analysisCmds:\n",
    "        fout.write(analysisCmd + '\\n')"
   ]
  },
  {
   "cell_type": "code",
   "execution_count": 29,
   "metadata": {
    "collapsed": false
   },
   "outputs": [],
   "source": [
    "%%bash\n",
    "#scp triploid_std_*_cmds peter@ammodramus:~/bio/snail/"
   ]
  },
  {
   "cell_type": "code",
   "execution_count": 30,
   "metadata": {
    "collapsed": false
   },
   "outputs": [],
   "source": [
    "results = {}\n",
    "for divtime, resultsfilename in zip(divtimes, resultsfilenames):\n",
    "    results[divtime] = read_tsmc_results(resultsfilename)\n",
    "    results[divtime]['truedivtime'] = divtime"
   ]
  },
  {
   "cell_type": "code",
   "execution_count": 33,
   "metadata": {
    "collapsed": false
   },
   "outputs": [
    {
     "data": {
      "image/png": "[encoded data removed]",
      "text/plain": [
       "<matplotlib.figure.Figure at 0x7f21789c8bd0>"
      ]
     },
     "metadata": {},
     "output_type": "display_data"
    }
   ],
   "source": [
    "fig, axes = plt.subplots(nrows=1,ncols=len(divtimes), figsize = (26,5))\n",
    "for colIdx, divtime in enumerate(divtimes):\n",
    "    axis = axes[colIdx]\n",
    "    result = results[divtime]\n",
    "    ts = get_unscaled_ts(result, trueN0)\n",
    "    Ns = get_Ns(result, mu, 100)\n",
    "    divtime *= 2*trueN0\n",
    "    estimatedDivtime = get_unscaled_divtime(result, mu, 100)\n",
    "    axis.set_title('asex transition @ {} generations'.format(divtime))\n",
    "    axis.set_xlabel('generations ago')\n",
    "    axis.set_ylabel('log10(N)')\n",
    "    axis.set_ylim((3,5))\n",
    "    plot_psmc(axis, ts, Ns, divtime = estimatedDivtime)\n",
    "    plot_psmc(axis, trueTs, trueNs, divtime = divtime)"
   ]
  },
  {
   "cell_type": "markdown",
   "metadata": {},
   "source": [
    "Appears to be correct timing, but population sizes are off. Double-check scaling of N's."
   ]
  },
  {
   "cell_type": "markdown",
   "metadata": {
    "collapsed": true
   },
   "source": [
    "## constant N and no asex, trying to calculate rho and theta"
   ]
  },
  {
   "cell_type": "code",
   "execution_count": 18,
   "metadata": {
    "collapsed": true
   },
   "outputs": [],
   "source": [
    "mu = 1.5e-8  # mutation rate\n",
    "r = 1.0e-8  # recombination rate\n",
    "N = 10000  # diploid population size in the sexual ancestor\n",
    "chromLength = int(1e7)  # 10 Mbp per chromosome\n",
    "#numChromosomes = 100  # simulate 100 chromosomes per replicate\n",
    "numChromosomes = 10  # simulate 10 chromosomes per replicate\n",
    "\n",
    "# scaled parameters for entire chromosomes\n",
    "rho = 4*N*r*chromLength\n",
    "theta = 4*N*mu*chromLength\n",
    "\n",
    "msCmd = \"mspms 3 {numChroms} -r {rho} {chromLen} -t {theta} -p 10\".format(\n",
    "    numChroms = numChromosomes,\n",
    "    chromLen = chromLength,\n",
    "    rho = rho,\n",
    "    theta = theta)"
   ]
  }
 ],
 "metadata": {
  "kernelspec": {
   "display_name": "Python 2",
   "language": "python",
   "name": "python2"
  },
  "language_info": {
   "codemirror_mode": {
    "name": "ipython",
    "version": 2
   },
   "file_extension": ".py",
   "mimetype": "text/x-python",
   "name": "python",
   "nbconvert_exporter": "python",
   "pygments_lexer": "ipython2",
   "version": "2.7.6"
  }
 },
 "nbformat": 4,
 "nbformat_minor": 0
}
