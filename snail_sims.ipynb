{
 "cells": [
  {
   "cell_type": "code",
   "execution_count": 1,
   "metadata": {
    "collapsed": true
   },
   "outputs": [],
   "source": [
    "# imports\n",
    "%matplotlib inline\n",
    "import re\n",
    "import matplotlib.pyplot as plt\n",
    "import matplotlib as mpl\n",
    "import numpy as np\n",
    "import pandas as pd\n",
    "import glob"
   ]
  },
  {
   "cell_type": "code",
   "execution_count": 2,
   "metadata": {
    "collapsed": true
   },
   "outputs": [],
   "source": [
    "mu = 1.5e-8  # mutation rate\n",
    "r = 1.0e-8  # recombination rate\n",
    "N = 10000  # diploid population size in the sexual ancestor\n",
    "chromLength = int(1e7)  # 10 Mbp per chromosome\n",
    "numChromosomes = 100  # simulate 100 chromosomes per replicate"
   ]
  },
  {
   "cell_type": "code",
   "execution_count": 3,
   "metadata": {
    "collapsed": true
   },
   "outputs": [],
   "source": [
    "# scaled parameters for entire chromosomes\n",
    "rho = 4*N*r*chromLength\n",
    "theta = 4*N*mu*chromLength"
   ]
  },
  {
   "cell_type": "code",
   "execution_count": 4,
   "metadata": {
    "collapsed": true
   },
   "outputs": [],
   "source": [
    "numReps = 5"
   ]
  },
  {
   "cell_type": "code",
   "execution_count": 5,
   "metadata": {
    "collapsed": true
   },
   "outputs": [],
   "source": [
    "# the different transition times to test\n",
    "asexGens = np.array([2000, 5000, 10000, 20000, 40000])\n",
    "asexGensRescaled = asexGens / (2.0*N)  # rescaled by 2*N"
   ]
  },
  {
   "cell_type": "markdown",
   "metadata": {},
   "source": [
    "## initial simulation: constant population size history, diploid asexuals"
   ]
  },
  {
   "cell_type": "code",
   "execution_count": 6,
   "metadata": {
    "collapsed": false
   },
   "outputs": [],
   "source": [
    "# generate ms commands (but using scrm instead of ms)\n",
    "# scrm: http://scrm.github.io/ \n",
    "\n",
    "msCmds = open('sim_ms_commands.txt', 'w')\n",
    "for asexGen in asexGensRescaled:\n",
    "    for rep in xrange(1, numReps+1):\n",
    "        filename = \"sim_data_t{}_rho{}_asex{}_rep{}\".format(theta, rho, asexGen, rep)\n",
    "        msCmd = \"scrm 2 {numChroms} -t {theta} -r {rho} {chromLen} | ./add_asex.py - {asexGen} > {filename}\".format(numChroms = numChromosomes,\n",
    "                                                                   theta = theta, rho = rho,\n",
    "                                                                   chromLen = chromLength, asexGen = asexGen,\n",
    "                                                                   filename = filename)\n",
    "        msCmds.write(msCmd+'\\n')\n",
    "# control runs with constant size and no history of asex\n",
    "for rep in xrange(1,numReps+1):\n",
    "    filename = \"sim_data_t{}_rho{}_no_asex_rep{}\".format(theta, rho, rep)\n",
    "    msCmd = \"scrm 2 {numChroms} -t {theta} -r {rho} {chromLen} > {filename}\".format(numChroms = numChromosomes,\n",
    "                                                               theta = theta, rho = rho,\n",
    "                                                               chromLen = chromLength,\n",
    "                                                               filename = filename)\n",
    "    msCmds.write(msCmd+'\\n')\n",
    "msCmds.close()"
   ]
  },
  {
   "cell_type": "markdown",
   "metadata": {},
   "source": [
    "Simulate the data.\n",
    "\n",
    "    cat sim_ms_commands.txt | parallel -j 4\n",
    "    mkdir -p simdata\n",
    "    mv sim_data* simdata/\n",
    "\n",
    "Convert to psmc format.\n",
    "    \n",
    "    for file in simdata/sim_data_*\n",
    "    do\n",
    "        psmcfilename=\"$file.psmc\"\n",
    "        ./ms2psmcfa.py $file > $psmcfilename\n",
    "    done"
   ]
  },
  {
   "cell_type": "code",
   "execution_count": 7,
   "metadata": {
    "collapsed": true
   },
   "outputs": [],
   "source": [
    "datadir = \"simdata\""
   ]
  },
  {
   "cell_type": "code",
   "execution_count": 8,
   "metadata": {
    "collapsed": false
   },
   "outputs": [],
   "source": [
    "# make psmc commands\n",
    "\n",
    "initialT = \"0.5\"\n",
    "\n",
    "psmcCmds = open('sim_psmc_commands.txt', 'w')\n",
    "\n",
    "for asexGen in asexGensRescaled:\n",
    "    for rep in xrange(1, numReps+1):\n",
    "        datafilename = \"{}/sim_data_t{}_rho{}_asex{}_rep{}.psmc\".format(datadir, theta, rho, asexGen, rep)\n",
    "        resultsfilename = \"{}/results_data_t{}_rho{}_asex{}_rep{}\".format(datadir, theta, rho, asexGen, rep)\n",
    "        resultsfilenameT = \"{}/results_data_t{}_rho{}_asex{}_rep{}_T\".format(datadir, theta, rho, asexGen, rep)\n",
    "        psmcCmd = \"psmc {} > {}\".format(datafilename, resultsfilename)\n",
    "        psmcCmdT = \"psmc {} -T {} > {}\".format(datafilename, initialT, resultsfilenameT)\n",
    "        psmcCmds.write(psmcCmd+'\\n')\n",
    "        psmcCmds.write(psmcCmdT+'\\n')\n",
    "# control runs with constant size and no history of asex\n",
    "psmcCmds = open('sim_psmc_commands_complete.txt', 'w')\n",
    "for rep in xrange(1,numReps+1):\n",
    "    datafilename = \"{}/sim_data_t{}_rho{}_no_asex_rep{}.psmc\".format(datadir, theta, rho, rep)\n",
    "    resultsfilename = \"{}/results_data_t{}_rho{}_no_asex_rep{}\".format(datadir, theta, rho, rep)\n",
    "    resultsfilenameT = \"{}/results_data_t{}_rho{}_no_asex_rep{}_T\".format(datadir, theta, rho, rep)\n",
    "    psmcCmd = \"psmc {} > {}\".format(datafilename, resultsfilename)\n",
    "    psmcCmdT = \"psmc {} -T {} > {}\".format(datafilename, initialT, resultsfilenameT)\n",
    "    psmcCmds.write(psmcCmd+'\\n')\n",
    "    psmcCmds.write(psmcCmdT+'\\n')\n",
    "psmcCmds.close()"
   ]
  },
  {
   "cell_type": "code",
   "execution_count": 9,
   "metadata": {
    "collapsed": false
   },
   "outputs": [],
   "source": [
    "# read and return psmc results as dict\n",
    "\n",
    "def read_psmc_results(filename):\n",
    "    results = {}\n",
    "    results['divtime'] = None  # divtime None by default...\n",
    "    fin = open(filename,'r')\n",
    "    for line in fin:\n",
    "        line = line.strip()\n",
    "        if line[:2] == 'TR':\n",
    "            spline = line.split('\\t')\n",
    "            results['theta'] = float(spline[1])\n",
    "            results['rho'] = float(spline[2])\n",
    "            continue\n",
    "        if line[:2] == 'DT':\n",
    "            results['divtime'] = float(line.split('\\t')[1])\n",
    "            continue\n",
    "        if line[:2] == 'RS':\n",
    "            spline = line.split('\\t')\n",
    "            i = int(spline[1])\n",
    "            ti = float(spline[2])\n",
    "            lambdai = float(spline[3])\n",
    "            results['maxi'] = i\n",
    "            results['t{}'.format(i)] = ti\n",
    "            results['lambda{}'.format(i)] = lambdai\n",
    "            continue\n",
    "    return results"
   ]
  },
  {
   "cell_type": "code",
   "execution_count": 50,
   "metadata": {
    "collapsed": false
   },
   "outputs": [],
   "source": [
    "# get psmc data\n",
    "\n",
    "rows = {}\n",
    "for asexGen, asexGenUnscaled in zip(asexGensRescaled, asexGens):\n",
    "    for rep in xrange(1, numReps+1):\n",
    "        index = 'asex{}_rep{}'.format(asexGen, rep)\n",
    "        resultsfilename = \"{}/results_data_t{}_rho{}_asex{}_rep{}\".format(datadir, theta, rho, asexGen, rep)\n",
    "        try:\n",
    "            results = read_psmc_results(resultsfilename)\n",
    "            results['asex'] = asexGenUnscaled\n",
    "            results['rep'] = rep\n",
    "            rows[index] = results\n",
    "        except:\n",
    "            pass\n",
    "        index = 'asex{}_rep{}_T'.format(asexGen, rep)\n",
    "        resultsfilename = \"{}/results_data_t{}_rho{}_asex{}_rep{}_T\".format(datadir, theta, rho, asexGen, rep)\n",
    "        try:\n",
    "            results = read_psmc_results(resultsfilename)\n",
    "            results['asex'] = asexGenUnscaled\n",
    "            results['rep'] = rep\n",
    "            rows[index] = results \n",
    "        except:\n",
    "            pass\n",
    "        \n",
    "for rep in xrange(1, numReps+1):\n",
    "    index = 'noasex_rep{}'.format(rep)\n",
    "    resultsfilename = \"{}/results_data_t{}_rho{}_no_asex_rep{}\".format(datadir, theta, rho, rep)\n",
    "    try:\n",
    "        results = read_psmc_results(resultsfilename)\n",
    "        results['asex'] = None\n",
    "        results['rep'] = rep\n",
    "        rows[index] = results\n",
    "    except:\n",
    "        pass"
   ]
  },
  {
   "cell_type": "code",
   "execution_count": 51,
   "metadata": {
    "collapsed": false
   },
   "outputs": [],
   "source": [
    "# make a dataframe for psmc data\n",
    "\n",
    "dat = pd.DataFrame.from_dict(rows, orient = 'index')\n",
    "maxi = int(dat['maxi'].max())\n",
    "newCols = ['asex', 'rep', 'theta', 'rho', 'divtime']\n",
    "newCols.extend(['lambda'+str(i) for i in xrange(0,maxi+1)])\n",
    "newCols.extend(['t'+str(i) for i in xrange(0,maxi+1)])\n",
    "newCols.append('maxi')\n",
    "dat = dat[newCols]"
   ]
  },
  {
   "cell_type": "code",
   "execution_count": 52,
   "metadata": {
    "collapsed": false
   },
   "outputs": [],
   "source": [
    "# rescaling the population sizes and times\n",
    "\n",
    "binSize = 100  # we binned the bp's by 100 in the input to PSMC\n",
    "\n",
    "dat['lambda0'] = dat['theta'] / (4.0*mu) / binSize\n",
    "\n",
    "dat['divtime'] = 2.0*dat['lambda0'] * dat['divtime']\n",
    "\n",
    "for i in xrange(1, maxi+1):\n",
    "    colLam = 'lambda'+str(i)\n",
    "    colT = 't'+str(i)\n",
    "    dat[colLam] = dat['lambda0'] * dat[colLam]\n",
    "    dat[colT] = 2.0*dat['lambda0'] * dat[colT]"
   ]
  },
  {
   "cell_type": "code",
   "execution_count": 85,
   "metadata": {
    "collapsed": false
   },
   "outputs": [],
   "source": [
    "# function to plot psmc data\n",
    "\n",
    "def plot_psmc(axis, ts, lambdas, divtime = None, maxt = None, **plotkwargs):\n",
    "    newTs = np.repeat(np.array(ts), 2)[1:]\n",
    "    newLambdas = np.repeat(np.array(lambdas), 2)[:-1]\n",
    "    if divtime is None:\n",
    "        axis.plot(newTs, np.log10(newLambdas), '-', **plotkwargs)\n",
    "    else:\n",
    "        baseline, = axis.plot(newTs+divtime, np.log10(newLambdas), '-', **plotkwargs)\n",
    "        if 'color' not in plotkwargs:\n",
    "            axis.axvline(x = divtime, color = baseline.get_color(), **plotkwargs)\n",
    "        else:\n",
    "            axis.axvline(x = divtime, **plotkwargs)\n",
    "    if maxt is not None:\n",
    "        axis.set_xlim((0, maxt))\n",
    "    return"
   ]
  },
  {
   "cell_type": "code",
   "execution_count": 86,
   "metadata": {
    "collapsed": false
   },
   "outputs": [
    {
     "data": {
      "image/png": "[encoded data removed]",
      "text/plain": [
       "<matplotlib.figure.Figure at 0x7fbf86fcbd90>"
      ]
     },
     "metadata": {},
     "output_type": "display_data"
    }
   ],
   "source": [
    "# plot the psmc data\n",
    "\n",
    "fig, axes = plt.subplots(nrows=2,ncols=len(asexGens), figsize = (26,10))\n",
    "for colIdx, asexGen in enumerate(asexGens):\n",
    "    # first row: no T\n",
    "    datp = dat.loc[(dat['asex'] == asexGen) & (np.isnan(dat['divtime'])),:]\n",
    "    axis = axes[0, colIdx]\n",
    "    for rowIdx in xrange(datp.shape[0]):\n",
    "        maxi = int(datp.ix[rowIdx,'maxi'])\n",
    "        ts = datp.ix[rowIdx,'t0':('t{}'.format(maxi))]\n",
    "        lambdas = datp.ix[rowIdx, 'lambda0':('lambda{}'.format(maxi))]\n",
    "        divtime = datp.ix[rowIdx, 'divtime']\n",
    "        if np.isnan(divtime):\n",
    "            divtime = None\n",
    "        plot_psmc(axis, ts, lambdas, divtime, maxt = 70000)\n",
    "        axis.axvline(asexGen, color = 'gray', lw = 5, ls = 'dashed')\n",
    "        axis.axhline(np.log10(N), color = 'gray', lw = 3, ls = 'dashed')\n",
    "        axis.set_title('asex transition @ {} generations, no T'.format(asexGen))\n",
    "        axis.set_xlabel('generation')\n",
    "        axis.set_ylabel('log10(N)')\n",
    "    # second row: T\n",
    "    datp = dat.loc[(dat['asex'] == asexGen) & (~np.isnan(dat['divtime'])),:]\n",
    "    axis = axes[1, colIdx]\n",
    "    for rowIdx in xrange(datp.shape[0]):\n",
    "        maxi = int(datp.ix[rowIdx,'maxi'])\n",
    "        ts = datp.ix[rowIdx,'t0':('t{}'.format(maxi))]\n",
    "        lambdas = datp.ix[rowIdx, 'lambda0':('lambda{}'.format(maxi))]\n",
    "        divtime = datp.ix[rowIdx, 'divtime']\n",
    "        if np.isnan(divtime):\n",
    "            divtime = None\n",
    "        plot_psmc(axis, ts, lambdas, divtime, maxt = 70000)\n",
    "        # add true divergence time\n",
    "        axis.axvline(asexGen, color = 'gray', lw = 3, ls = 'dashed')\n",
    "        axis.axhline(np.log10(N), color = 'gray', lw = 3, ls = 'dashed')\n",
    "        axis.set_title('asex transition @ {} generations, with T'.format(asexGen))\n",
    "        axis.set_xlabel('generation')\n",
    "        axis.set_ylabel('log10(N)')\n",
    "        "
   ]
  },
  {
   "cell_type": "markdown",
   "metadata": {},
   "source": [
    "**Figure caption:** Inferred sex-to-asex transition times using the diploid PSMC with simulated diploid asexual genome data. In each panel, there are five lines, one line for each of five replicate datasets. The true population size is shown as a horizontal dashed gray line. The true time of the transition from sexual to asexual reproduction is shown as a vertical dashed gray line. The top row shows the results leaving out the `-T` parameter; the period of asexual reproduction is inferred as a period of increased population size. The lower row shows the effect of enabling the `-T` parameter in PSMC. This parameter is an aborted attempt to model the divergence between two populations; it doesn't work for that scenario, but it is perfect for this particular scenario. In the lower row, the inferred sex-to-asex transition time is shown with the colored solid vertical lines."
   ]
  },
  {
   "cell_type": "markdown",
   "metadata": {},
   "source": [
    "It seems like the -T parameter accurately estimates the time since the sex to asex transition time, at least when there is no history of population size changes. The transition is also visible in population size trajectory without the -T option specified (top row), but it is harder to read from the trajectory of N. The estimate of the transition time seems to be somewhat underestimated, with an upwards bias of N directly following the transition. This may be the effect of using SMC math where the SMC' is really needed.\n",
    "\n",
    "Next: do diploid simulations with recent population growth, see whether PSMC can disentangle these two effects. One reason to be optimistic: In the top row above, the inferred increase in population size in the recent past is several orders of magnitude, which will probably not be the case in nature."
   ]
  },
  {
   "cell_type": "markdown",
   "metadata": {},
   "source": [
    "## including historical changes in population size"
   ]
  },
  {
   "cell_type": "markdown",
   "metadata": {},
   "source": [
    "First going to use \"PSMC standard simulation\" from their paper, see true population size history in Fig. 2 of Li and Durbin (2011)."
   ]
  },
  {
   "cell_type": "markdown",
   "metadata": {},
   "source": [
    "The ms command to generate their \"standard simulation,\" from the paper:\n",
    "\n",
    "    ms 2 100 -t 81960 -r 13560 30000000 -eN 0.01 0.05 -eN 0.0375 0.5 -eN 1.25 1\n",
    "\n",
    "This sets $N_0 = 28000$, $\\theta = 4N_0\\mu = 81960$,\n",
    "thus $\\mu = 2.44 \\times 10^{-8}$, $\\rho = 4N_0r = 13560$, thus\n",
    "$r = 4.04 \\times 10^{-9}$.\n",
    "\n",
    "Changes in population size:\n",
    "\n",
    " - at 1120 generations, $N_0 \\to N_1 = 1400$\n",
    " - at 4200 generations, $N_1 \\to N_2 = 14000$\n",
    " - at 140000 generations, $N_2 \\to N_3 = 28000$\n",
    "\n",
    "Again, we will add $\\{2000, 5000, 10000, 20000, 40000\\}$ generations of asexual reproduction and see how PSMC determines these transition times from the genome-wide signal of the Meselson effect."
   ]
  },
  {
   "cell_type": "code",
   "execution_count": 59,
   "metadata": {
    "collapsed": false
   },
   "outputs": [],
   "source": [
    "# generate new ms (scrm) commands\n",
    "\n",
    "stdMsCmd = \"scrm 2 100 -t 81960 -r 13560 30000000 -eN 0.01 0.05 -eN 0.0375 0.5 -eN 1.25 1\"\n",
    "\n",
    "datadir = \"stdsimdata\"\n",
    "\n",
    "stdN0 = 28000\n",
    "\n",
    "stdAsexGensRescaled = asexGens/(2.0*stdN0)\n",
    "\n",
    "stdMsCmds = open('sim_ms_commands_standard.txt', 'w')\n",
    "for asexGen in stdAsexGensRescaled:\n",
    "    for rep in xrange(1, numReps+1):\n",
    "        filename = \"{}/standard_sim_data_t{}_rho{}_asex{}_rep{}\".format(datadir, theta, rho, asexGen, rep)\n",
    "        msCmd = stdMsCmd + ' | ./add_asex.py - {asexGen} > {filename} && ./ms2psmcfa.py {filename} > {filename}.psmc'.format(asexGen=asexGen, filename=filename)\n",
    "        stdMsCmds.write(msCmd+'\\n')\n",
    "\n",
    "# control runs with constant size and no history of asex\n",
    "for rep in xrange(1,numReps+1):\n",
    "    filename = \"{}/standard_sim_data_t{}_rho{}_no_asex_rep{}\".format(datadir, theta, rho, rep)\n",
    "    msCmd = stdMsCmd + ' > {filename} && ./ms2psmcfa.py {filename} > {filename}.psmc'.format(filename=filename)\n",
    "    stdMsCmds.write(msCmd+'\\n')\n",
    "stdMsCmds.close()"
   ]
  },
  {
   "cell_type": "code",
   "execution_count": 60,
   "metadata": {
    "collapsed": false
   },
   "outputs": [
    {
     "name": "stdout",
     "output_type": "stream",
     "text": [
      "scrm 2 100 -t 81960 -r 13560 30000000 -eN 0.01 0.05 -eN 0.0375 0.5 -eN 1.25 1 | ./add_asex.py - 0.0357142857143 > stdsimdata/standard_sim_data_t6000.0_rho4000.0_asex0.0357142857143_rep1 && ./ms2psmcfa.py stdsimdata/standard_sim_data_t6000.0_rho4000.0_asex0.0357142857143_rep1 > stdsimdata/standard_sim_data_t6000.0_rho4000.0_asex0.0357142857143_rep1.psmc\n",
      "scrm 2 100 -t 81960 -r 13560 30000000 -eN 0.01 0.05 -eN 0.0375 0.5 -eN 1.25 1 | ./add_asex.py - 0.0357142857143 > stdsimdata/standard_sim_data_t6000.0_rho4000.0_asex0.0357142857143_rep2 && ./ms2psmcfa.py stdsimdata/standard_sim_data_t6000.0_rho4000.0_asex0.0357142857143_rep2 > stdsimdata/standard_sim_data_t6000.0_rho4000.0_asex0.0357142857143_rep2.psmc\n"
     ]
    }
   ],
   "source": [
    "%%bash\n",
    "\n",
    "head -n 2 sim_ms_commands_standard.txt"
   ]
  },
  {
   "cell_type": "code",
   "execution_count": 61,
   "metadata": {
    "collapsed": false
   },
   "outputs": [],
   "source": [
    "%%bash\n",
    "\n",
    "#ssh peter@ammodramus \"mkdir -p /tmp/stdsimdata/\"\n",
    "#scp sim_ms_commands_standard.txt peter@ammodramus:/tmp/"
   ]
  },
  {
   "cell_type": "markdown",
   "metadata": {},
   "source": [
    "On `ammodramus`:\n",
    "\n",
    "    cd /tmp/\n",
    "    cat sim_ms_commands_standard.txt | parallel -j 7"
   ]
  },
  {
   "cell_type": "code",
   "execution_count": 62,
   "metadata": {
    "collapsed": true
   },
   "outputs": [],
   "source": [
    "# make the psmc commands too\n",
    "\n",
    "initialT = \"0.5\"\n",
    "\n",
    "psmcCmds = open('sim_psmc_commands_standard.txt', 'w')\n",
    "\n",
    "datadir = 'stdsimdata'\n",
    "\n",
    "for asexGen in stdAsexGensRescaled:\n",
    "    for rep in xrange(1, numReps+1):\n",
    "        datafilename = \"{}/standard_sim_data_t{}_rho{}_asex{}_rep{}.psmc\".format(datadir, theta, rho, asexGen, rep)\n",
    "        resultsfilename = \"{}/standard_results_data_t{}_rho{}_asex{}_rep{}\".format(datadir, theta, rho, asexGen, rep)\n",
    "        resultsfilenameT = \"{}/standard_results_data_t{}_rho{}_asex{}_rep{}_T\".format(datadir, theta, rho, asexGen, rep)\n",
    "        psmcCmd = \"psmc {} > {}\".format(datafilename, resultsfilename)\n",
    "        psmcCmdT = \"psmc {} -T {} > {}\".format(datafilename, initialT, resultsfilenameT)\n",
    "        psmcCmds.write(psmcCmd+'\\n')\n",
    "        psmcCmds.write(psmcCmdT+'\\n')\n",
    "# control runs with constant size and no history of asex\n",
    "psmcCmds = open('sim_psmc_commands_complete.txt', 'w')\n",
    "for rep in xrange(1,numReps+1):\n",
    "    datafilename = \"{}/standard_sim_data_t{}_rho{}_no_asex_rep{}.psmc\".format(datadir, theta, rho, rep)\n",
    "    resultsfilename = \"{}/standard_results_data_t{}_rho{}_no_asex_rep{}\".format(datadir, theta, rho, rep)\n",
    "    resultsfilenameT = \"{}/standard_results_data_t{}_rho{}_no_asex_rep{}_T\".format(datadir, theta, rho, rep)\n",
    "    psmcCmd = \"psmc {} > {}\".format(datafilename, resultsfilename)\n",
    "    psmcCmdT = \"psmc {} -T {} > {}\".format(datafilename, initialT, resultsfilenameT)\n",
    "    psmcCmds.write(psmcCmd+'\\n')\n",
    "    psmcCmds.write(psmcCmdT+'\\n')\n",
    "psmcCmds.close()"
   ]
  },
  {
   "cell_type": "code",
   "execution_count": 63,
   "metadata": {
    "collapsed": false
   },
   "outputs": [
    {
     "name": "stdout",
     "output_type": "stream",
     "text": [
      "psmc stdsimdata/standard_sim_data_t6000.0_rho4000.0_asex0.0357142857143_rep1.psmc > stdsimdata/standard_results_data_t6000.0_rho4000.0_asex0.0357142857143_rep1\n",
      "psmc stdsimdata/standard_sim_data_t6000.0_rho4000.0_asex0.0357142857143_rep1.psmc -T 0.5 > stdsimdata/standard_results_data_t6000.0_rho4000.0_asex0.0357142857143_rep1_T\n"
     ]
    }
   ],
   "source": [
    "%%bash\n",
    "\n",
    "head -n 2 sim_psmc_commands_standard.txt"
   ]
  },
  {
   "cell_type": "code",
   "execution_count": 64,
   "metadata": {
    "collapsed": true
   },
   "outputs": [],
   "source": [
    "%%bash\n",
    "\n",
    "#scp sim_psmc_commands_standard.txt peter@ammodramus:/tmp/"
   ]
  },
  {
   "cell_type": "markdown",
   "metadata": {},
   "source": [
    "Combined ms and psmc commands into one big file, sent off with `cat | parallel`"
   ]
  },
  {
   "cell_type": "code",
   "execution_count": 65,
   "metadata": {
    "collapsed": false
   },
   "outputs": [],
   "source": [
    "# get psmc data for standard simulations\n",
    "\n",
    "datadir = 'stdsimdata'\n",
    "\n",
    "stdrows = {}\n",
    "for asexGen, stdAsexGenUnscaled in zip(stdAsexGensRescaled, asexGens):\n",
    "    for rep in xrange(1, numReps+1):\n",
    "        index = 'std_asex{}_rep{}'.format(asexGen, rep)\n",
    "        resultsfilename = \"{}/standard_results_data_t{}_rho{}_asex{}_rep{}\".format(datadir, theta, rho, asexGen, rep)\n",
    "        try:\n",
    "            results = read_psmc_results(resultsfilename)\n",
    "            results['asex'] = stdAsexGenUnscaled\n",
    "            results['rep'] = rep\n",
    "            stdrows[index] = results\n",
    "        except:\n",
    "            pass\n",
    "        index = 'std_asex{}_rep{}_T'.format(asexGen, rep)\n",
    "        resultsfilename = \"{}/standard_results_data_t{}_rho{}_asex{}_rep{}_T\".format(datadir, theta, rho, asexGen, rep)\n",
    "        try:\n",
    "            results = read_psmc_results(resultsfilename)\n",
    "            results['asex'] = stdAsexGenUnscaled\n",
    "            results['rep'] = rep\n",
    "            stdrows[index] = results \n",
    "        except:\n",
    "            pass\n",
    "        \n",
    "_ = '''\n",
    "for rep in xrange(1, numReps+1):\n",
    "    index = 'noasex_rep{}'.format(rep)\n",
    "    resultsfilename = \"{}/results_data_t{}_rho{}_no_asex_rep{}\".format(datadir, theta, rho, rep)\n",
    "    try:\n",
    "        results = read_psmc_results(resultsfilename)\n",
    "        results['asex'] = None\n",
    "        results['rep'] = rep\n",
    "        rows[index] = results\n",
    "    except:\n",
    "        pass\n",
    "'''"
   ]
  },
  {
   "cell_type": "code",
   "execution_count": 66,
   "metadata": {
    "collapsed": false
   },
   "outputs": [],
   "source": [
    "# make a dataframe for standard (var-N) psmc data\n",
    "\n",
    "stddat = pd.DataFrame.from_dict(stdrows, orient = 'index')\n",
    "maxi = int(dat['maxi'].max())\n",
    "newCols = ['asex', 'rep', 'theta', 'rho', 'divtime']\n",
    "newCols.extend(['lambda'+str(i) for i in xrange(0,maxi+1)])\n",
    "newCols.extend(['t'+str(i) for i in xrange(0,maxi+1)])\n",
    "newCols.append('maxi')\n",
    "stddat = stddat[newCols]"
   ]
  },
  {
   "cell_type": "markdown",
   "metadata": {},
   "source": [
    "The ms command to generate their \"standard simulation,\" from the paper:\n",
    "\n",
    "    ms 2 100 -t 81960 -r 13560 30000000 -eN 0.01 0.05 -eN 0.0375 0.5 -eN 1.25 1\n",
    "\n",
    "This sets $N_0 = 28000$, $\\theta = 4N_0\\mu = 81960$,\n",
    "thus $\\mu = 2.44 \\times 10^{-8}$, $\\rho = 4N_0r = 13560$, thus\n",
    "$r = 4.04 \\times 10^{-9}$.\n",
    "\n",
    "Changes in population size:\n",
    "\n",
    " - at 1120 generations, $N_0 \\to N_1 = 1400$\n",
    " - at 4200 generations, $N_1 \\to N_2 = 14000$\n",
    " - at 140000 generations, $N_2 \\to N_3 = 28000$\n",
    "\n",
    "Again, we will add $\\{2000, 5000, 10000, 20000, 40000\\}$ generations of asexual reproduction and see how PSMC determines these transition times from the genome-wide signal of the Meselson effect."
   ]
  },
  {
   "cell_type": "code",
   "execution_count": 69,
   "metadata": {
    "collapsed": true
   },
   "outputs": [],
   "source": [
    "trueTs = np.array([0,1120,4200,140000])\n",
    "trueNs = np.array([28000,1400,14000,28000])"
   ]
  },
  {
   "cell_type": "code",
   "execution_count": 67,
   "metadata": {
    "collapsed": false
   },
   "outputs": [],
   "source": [
    "# rescaling the population sizes and times in the standard (var-N) simulations\n",
    "\n",
    "binSize = 100  # we binned the bp's by 100 in the input to PSMC\n",
    "\n",
    "mustd = 2.44e-8\n",
    "\n",
    "stddat['lambda0'] = stddat['theta'] / (4.0*mustd) / binSize\n",
    "\n",
    "stddat['divtime'] = 2.0*stddat['lambda0'] * stddat['divtime']\n",
    "\n",
    "for i in xrange(1, maxi+1):\n",
    "    colLam = 'lambda'+str(i)\n",
    "    colT = 't'+str(i)\n",
    "    stddat[colLam] = stddat['lambda0'] * stddat[colLam]\n",
    "    stddat[colT] = 2.0*stddat['lambda0'] * stddat[colT]"
   ]
  },
  {
   "cell_type": "code",
   "execution_count": 89,
   "metadata": {
    "collapsed": false
   },
   "outputs": [
    {
     "data": {
      "image/png": "[encoded data removed]",
      "text/plain": [
       "<matplotlib.figure.Figure at 0x7fbf8c2ab190>"
      ]
     },
     "metadata": {},
     "output_type": "display_data"
    }
   ],
   "source": [
    "###### plot the std psmc data\n",
    "\n",
    "fig, axes = plt.subplots(nrows=2,ncols=len(asexGens), figsize = (26,10))\n",
    "for colIdx, asexGen in enumerate(asexGens):\n",
    "    # first row: no T\n",
    "    datp = stddat.loc[(stddat['asex'] == asexGen) & (np.isnan(stddat['divtime'])),:]\n",
    "    axis = axes[0, colIdx]\n",
    "    plot_psmc(axis, trueTs, trueNs, asexGen, color='gray', lw=5, ls='dashed')\n",
    "    for rowIdx in xrange(datp.shape[0]):\n",
    "        maxi = int(datp.ix[rowIdx,'maxi'])\n",
    "        ts = datp.ix[rowIdx,'t0':('t{}'.format(maxi))]\n",
    "        lambdas = datp.ix[rowIdx, 'lambda0':('lambda{}'.format(maxi))]\n",
    "        divtime = datp.ix[rowIdx, 'divtime']\n",
    "        if np.isnan(divtime):\n",
    "            divtime = None\n",
    "        plot_psmc(axis, ts, lambdas, divtime, maxt = 60000)\n",
    "        axis.set_title('asex transition @ {} generations, no T'.format(asexGen))\n",
    "        axis.set_xlabel('generation')\n",
    "        axis.set_ylabel('log10(N)')\n",
    "    # second row: T\n",
    "    datp = stddat.loc[(stddat['asex'] == asexGen) & (~np.isnan(stddat['divtime'])),:]\n",
    "    axis = axes[1, colIdx]\n",
    "    plot_psmc(axis, trueTs, trueNs, asexGen, color='gray', lw=5, ls='dashed')\n",
    "    for rowIdx in xrange(datp.shape[0]):\n",
    "        maxi = int(datp.ix[rowIdx,'maxi'])\n",
    "        ts = datp.ix[rowIdx,'t0':('t{}'.format(maxi))]\n",
    "        lambdas = datp.ix[rowIdx, 'lambda0':('lambda{}'.format(maxi))]\n",
    "        divtime = datp.ix[rowIdx, 'divtime']\n",
    "        if np.isnan(divtime):\n",
    "            divtime = None\n",
    "        plot_psmc(axis, ts, lambdas, divtime, maxt = 60000)\n",
    "        # add true divergence time\n",
    "        #axis.axvline(asexGen, color = 'gray', lw = 3, ls = 'dashed')\n",
    "        axis.set_title('asex transition @ {} generations, with T'.format(asexGen))\n",
    "        axis.set_xlabel('generation')\n",
    "        axis.set_ylabel('log10(N)')"
   ]
  },
  {
   "cell_type": "markdown",
   "metadata": {},
   "source": [
    "**Figure description:** Divergence time and demographic inference from simulated diploid asexual genome data. The demographic history (i.e., historical population size trajectory) of the sexual ancestor is the \"standard\" PSMC simulation described above, shown with the dashed gray line. Each column shows results of a diploid asexual lineage that transitioned from a diploid sexual ancestor at some point in the past, which increases moving from the first to last column. This transition time is marked with a vertical dashed gray line.\n",
    "\n",
    "In each panel, the replicate simulations are different colored lines. The top row shows the past that is inferred when the `-T` parameter is disabled, the default behavior. In this case PSMC infers an astronomically large population size during the period of asexual reproduction. The bottom row shows the same simulations analyzed with the asexual divergence `-T` parameter enabled. In these figures, the inferred divergence times are the colored vertical lines.\n",
    "\n",
    "It is very encouraging to see that (this particular) variable-population-size history does not affect the inference of the sex-to-asex transition time and that the population size history is still recoverable.\n"
   ]
  },
  {
   "cell_type": "markdown",
   "metadata": {},
   "source": [
    "Next: simulate triploid data, with and without variable population size history, \"diploidize\" the genotypes, and run PSMC."
   ]
  },
  {
   "cell_type": "markdown",
   "metadata": {},
   "source": [
    "### A note: information in polymorphism density vs genotype / SFS\n",
    "\n",
    "The diploid PSMC takes into account only the positions of the polymorphic positions; it ignores the particular genotypes. It is encouraging that the diploid PSMC model seems to accurately infer the sex-to-asex transition time. For a hypothetical *diploid* asexual species, the only information about the Meselson effect contained in a single genome is in the spacing of polymorphisms.\n",
    "\n",
    "For a triploid asexual species, there is also a huge amount of information in genotypes, which is the (unfolded) site-frequency spectrum of the polymorphisms. (By genotype, I mean the count of 0,1,2, or 3 derived allele copies at a site. They would be established by polarizing against the *P. estuarinas* outgroup.) Consider the following: in a sexual panmictic population with constant population size, the expected number of singletons in a sample of size $n=3$ is $\\theta$, and the expected number of doubletons is $\\theta/2$, where $\\theta = 4N\\mu$.\n",
    "\n",
    "If a triploid asexual lineage was derived from three sexual haplotypes at time $T$ in the past (measured in units of $2N$ generations), then (due to the Meselson effect), any mutations that occurred during that interval $[0,T)$ of asexual reproduction will be present in only one copy in the lineage's genome. Thus apomictic asexual reproduction increases the expected number of singletons but not the number of doubletons.\n",
    "\n",
    "It's straightforward to work out an estimator for this time $T$ based on the ratio of singleton vs. doubleton genotypes in the genome. The additional number of singletons expected due to the Meselson effect is $3\\theta T/2$, so the total number of singletons expected is $\\theta + 3\\theta T/2 = \\frac{2\\theta + 3\\theta T}{2}.$ The expected number of doubletons is still $\\theta/2$, so the expected total number polymorphisms is\n",
    "$\\frac{3\\theta+3\\theta T}{2}$. The expected fraction of singleton genotypes is thus\n",
    "\n",
    "$$\n",
    "R = \\frac{2+3T}{3+3T},\n",
    "$$\n",
    "which gives the estimator\n",
    "\n",
    "$$\n",
    "\\hat{T} = \\frac{3\\hat{R}-2}{3(1-\\hat{R})},\n",
    "$$\n",
    "where $\\hat{R}$ is the observed fraction of polymorphic sites that are singleton genotypes. This estimator works well for simulated data but relies heavily on the assumption that the sexual ancestral population had a constant size. This estimator could be extended to any demographic history of the sexual ancestor, so long as it is possible to calculate the site-frequency spectrum for that demographic history. (There are methods of doing this.)\n",
    "\n",
    "But generally speaking, it will be impossible to disentangle changes in the sexual ancestor's population size from the timing of the sex-to-asex transition time using only the genome-wide SFS (i.e., using this estimator). However, it may be possible to rule out demographic history as a plausible explanation if the observed value of $\\hat{R}$ is extreme enough.\n",
    "\n",
    "A fully-specified triploid PSMC-style model with a $T$ parameter built into the model would take full advantage of the information contained in both the spacing of polymorphic sites and the genotype frequency spectrum. I am confident that this model would have excellent power to determine the sex-to-asex transition time."
   ]
  },
  {
   "cell_type": "code",
   "execution_count": 96,
   "metadata": {
    "collapsed": true
   },
   "outputs": [],
   "source": [
    "# simulate triploid data\n",
    "\n",
    "# these are the same parameters as the constant-N simulations before,\n",
    "# but now simulating triploid data with ms\n",
    "\n",
    "mu = 1.5e-8  # mutation rate\n",
    "# simulate triploid data\n",
    "r = 1.0e-8  # recombination rate\n",
    "N = 10000  # diploid population size in the sexual ancestor\n",
    "chromLength = int(1e7)  # 10 Mbp per chromosome\n",
    "numChromosomes = 100  # simulate 100 chromosomes per replicate"
   ]
  },
  {
   "cell_type": "code",
   "execution_count": 97,
   "metadata": {
    "collapsed": true
   },
   "outputs": [],
   "source": [
    "# scaled parameters for entire chromosomes\n",
    "rho = 4*N*r*chromLength\n",
    "theta = 4*N*mu*chromLength"
   ]
  },
  {
   "cell_type": "code",
   "execution_count": 98,
   "metadata": {
    "collapsed": true
   },
   "outputs": [],
   "source": [
    "# the different transition times to test\n",
    "asexGens = np.array([2000, 5000, 10000, 20000, 40000])\n",
    "asexGensRescaled = asexGens / (2.0*N)  # rescaled by 2*N"
   ]
  },
  {
   "cell_type": "code",
   "execution_count": 106,
   "metadata": {
    "collapsed": false
   },
   "outputs": [],
   "source": [
    "# generate ms commands (but using scrm instead of ms)\n",
    "# scrm: http://scrm.github.io/ \n",
    "\n",
    "datadir = \"triploidconstant\"\n",
    "\n",
    "msCmds = open('sim_ms_commands_constant_triploid.txt', 'w')\n",
    "for asexGen in asexGensRescaled:\n",
    "    for rep in xrange(1, numReps+1):\n",
    "        filename = \"{}/sim_data_t{}_rho{}_asex{}_triploid_rep{}\".format(datadir, theta, rho, asexGen, rep)\n",
    "        msCmd = \"scrm 3 {numChroms} -t {theta} -r {rho} {chromLen} | ./add_asex.py - {asexGen} --triploid > {filename}\".format(numChroms = numChromosomes,\n",
    "                                                                   theta = theta, rho = rho,\n",
    "                                                                   chromLen = chromLength, asexGen = asexGen,\n",
    "                                                                   filename = filename)\n",
    "        psmcfaFilename = filename + '.psmc'\n",
    "        ms2psmcfaCmd = './ms2psmcfa.py {} > {}'.format(filename, psmcfaFilename)\n",
    "        resultsFilename = \"{}/results_t{}_rho{}_asex{}_triploid_rep{}\".format(datadir, theta, rho, asexGen, rep)\n",
    "        resultsFilenameT = \"{}/results_t{}_rho{}_asex{}_triploid_rep{}_T\".format(datadir, theta, rho, asexGen, rep)\n",
    "        psmcCmd = 'psmc {} > {}'.format(psmcfaFilename, resultsFilename)\n",
    "        psmcCmdT = 'psmc {} -T > {}'.format(psmcfaFilename, resultsFilenameT)\n",
    "        wholeCmd = '{} && {} && {} && {}'.format(msCmd, ms2psmcfaCmd, psmcCmd, psmcCmdT)\n",
    "        msCmds.write(wholeCmd+'\\n')\n",
    "# control runs with constant size and no history of asex\n",
    "for rep in xrange(1,numReps+1):\n",
    "    filename = \"{}/sim_data_t{}_rho{}_no_asex_triploid_rep{}\".format(datadir, theta, rho, rep)\n",
    "    msCmd = \"scrm 3 {numChroms} -t {theta} -r {rho} {chromLen} > {filename}\".format(numChroms = numChromosomes,\n",
    "                                                               theta = theta, rho = rho,\n",
    "                                                               chromLen = chromLength,\n",
    "                                                               filename = filename)\n",
    "    psmcfaFilename = filename + '.psmc'\n",
    "    ms2psmcfaCmd = './ms2psmcfa.py {} > {}'.format(filename, psmcfaFilename)\n",
    "    resultsFilename = \"{}/results_t{}_rho{}_no_asex_triploid_rep{}\".format(datadir, theta, rho, rep)\n",
    "    resultsFilenameT = \"{}/results_t{}_rho{}_no_asex_triploid_rep{}_T\".format(datadir, theta, rho, rep)\n",
    "    psmcCmd = 'psmc {} > {}'.format(psmcfaFilename, resultsFilename)\n",
    "    psmcCmdT = 'psmc {} -T > {}'.format(psmcfaFilename, resultsFilenameT)\n",
    "    wholeCmd = '{} && {} && {} && {}'.format(msCmd, ms2psmcfaCmd, psmcCmd, psmcCmdT)\n",
    "    msCmds.write(wholeCmd+'\\n')\n",
    "msCmds.close()"
   ]
  },
  {
   "cell_type": "code",
   "execution_count": 109,
   "metadata": {
    "collapsed": false
   },
   "outputs": [
    {
     "name": "stdout",
     "output_type": "stream",
     "text": [
      "scrm 3 100 -t 6000.0 -r 4000.0 10000000 | ./add_asex.py - 0.1 --triploid > triploidconstant/sim_data_t6000.0_rho4000.0_asex0.1_triploid_rep1 && ./ms2psmcfa.py triploidconstant/sim_data_t6000.0_rho4000.0_asex0.1_triploid_rep1 > triploidconstant/sim_data_t6000.0_rho4000.0_asex0.1_triploid_rep1.psmc && psmc triploidconstant/sim_data_t6000.0_rho4000.0_asex0.1_triploid_rep1.psmc > triploidconstant/results_t6000.0_rho4000.0_asex0.1_triploid_rep1 && psmc triploidconstant/sim_data_t6000.0_rho4000.0_asex0.1_triploid_rep1.psmc -T > triploidconstant/results_t6000.0_rho4000.0_asex0.1_triploid_rep1_T\n",
      "scrm 3 100 -t 6000.0 -r 4000.0 10000000 > triploidconstant/sim_data_t6000.0_rho4000.0_no_asex_triploid_rep5 && ./ms2psmcfa.py triploidconstant/sim_data_t6000.0_rho4000.0_no_asex_triploid_rep5 > triploidconstant/sim_data_t6000.0_rho4000.0_no_asex_triploid_rep5.psmc && psmc triploidconstant/sim_data_t6000.0_rho4000.0_no_asex_triploid_rep5.psmc > triploidconstant/results_t6000.0_rho4000.0_no_asex_triploid_rep5 && psmc triploidconstant/sim_data_t6000.0_rho4000.0_no_asex_triploid_rep5.psmc -T > triploidconstant/results_t6000.0_rho4000.0_no_asex_triploid_rep5_T\n"
     ]
    }
   ],
   "source": [
    "%%bash\n",
    "\n",
    "head -n 1 'sim_ms_commands_constant_triploid.txt'\n",
    "tail -n 1 'sim_ms_commands_constant_triploid.txt'"
   ]
  },
  {
   "cell_type": "code",
   "execution_count": 111,
   "metadata": {
    "collapsed": true
   },
   "outputs": [],
   "source": [
    "%%bash\n",
    "\n",
    "#scp sim_ms_commands_constant_triploid.txt peter@ammodramus:/tmp/"
   ]
  }
 ],
 "metadata": {
  "kernelspec": {
   "display_name": "Python 2",
   "language": "python",
   "name": "python2"
  },
  "language_info": {
   "codemirror_mode": {
    "name": "ipython",
    "version": 2
   },
   "file_extension": ".py",
   "mimetype": "text/x-python",
   "name": "python",
   "nbconvert_exporter": "python",
   "pygments_lexer": "ipython2",
   "version": "2.7.6"
  }
 },
 "nbformat": 4,
 "nbformat_minor": 0
}
